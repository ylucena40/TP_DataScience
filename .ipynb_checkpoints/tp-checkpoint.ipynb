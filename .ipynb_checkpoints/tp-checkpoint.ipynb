{
 "cells": [
  {
   "cell_type": "markdown",
   "id": "36922634-6427-4688-8e02-3eb0ecd97cb6",
   "metadata": {},
   "source": [
    "Trabalho referente a disciplina de TECNOLOGIAS PARA DATASCIENCE, ministrada pela Professora Dr Carolina Ribeiro Xavier no curso de Ciência da Computação - UFSJ"
   ]
  },
  {
   "cell_type": "markdown",
   "id": "e3a98354-47e7-4f09-abcd-4d1a8019ebab",
   "metadata": {},
   "source": [
    "Este trabalho tem como objetivo analisar um pouco o crescimento e espalhamento de casos do Covid pelo Brasil,seus óbitos, e fazer um paralelo com a quantidade de pessoas vacinadas no ano de 2021.\n",
    "Os dados foram retirados de 2 sites diferentes e ambos os dados foram baixados no dia 05/ago/21.\n",
    "\n",
    "**Covid**: https://covid.saude.gov.br/\n",
    "\n",
    "\n",
    "**Vacinas**: https://qsprod.saude.gov.br/extensions/DEMAS_C19Vacina/DEMAS_C19Vacina.html\n",
    "\n",
    "Dos arquivos baixados, apenas o arquio de vacinas foi alterado, tendo trocado a formatação dos números, sendo retirado as ',' dos números e das datas, trocando a ordem dos dias com dos meses, para manter a formatação de datas apresentada nos arquivos do Covid."
   ]
  },
  {
   "cell_type": "markdown",
   "id": "960039a3-478a-457d-81c8-5580734d99b9",
   "metadata": {},
   "source": [
    "**BIBLIOTECAS**"
   ]
  },
  {
   "cell_type": "markdown",
   "id": "84d3f944-053a-4f1a-9cf9-0e5ffef1173d",
   "metadata": {},
   "source": [
    "Todas as bibliotecas utilizadas no trabalho foram as:\n",
    "\n",
    ".Pandas\n",
    "\n",
    ".Matplotlib\n",
    "\n",
    ".Numpy\n",
    "\n",
    ".DateTime\n",
    "\n",
    ".Folium\n",
    "\n",
    ".json"
   ]
  },
  {
   "cell_type": "code",
   "execution_count": 1,
   "id": "fa7964ea-ce2c-4b28-9b54-4d2f074d5e73",
   "metadata": {},
   "outputs": [],
   "source": [
    "import pandas as pd\n",
    "import matplotlib.pyplot as plt\n",
    "import numpy as np\n",
    "import datetime\n",
    "import folium\n",
    "import json"
   ]
  },
  {
   "cell_type": "markdown",
   "id": "57c1f85e-ebe4-41ad-ba79-451415993a2a",
   "metadata": {},
   "source": [
    "Os arquivos do covid são divididos em 4 pelo site, sendo 2 arquivos referente aos dados do ano de 2020 e 2 para o ano de 2021, sendo todos no formato de csv tend ';' como separador.\n",
    "Então criamos uma tabela para cada arquivo e depois juntamos todas elas em uma mesma tabela."
   ]
  },
  {
   "cell_type": "markdown",
   "id": "9768327c-e6c2-46b2-bc94-8f21af607f26",
   "metadata": {},
   "source": [
    "**TABELAS COVID**"
   ]
  },
  {
   "cell_type": "code",
   "execution_count": 2,
   "id": "7a1b352f-d87a-408f-96a7-ebbdeb3d7c3b",
   "metadata": {},
   "outputs": [],
   "source": [
    "dir_dataset = \"/home/yan/Downloads/DataScience_TP/datasets/HIST_PAINEL_COVIDBR_2020_Parte1_05ago2021.csv\"\n",
    "tabela1 = pd.read_csv(dir_dataset, sep=\";\")\n",
    "\n",
    "dir_dataset = \"/home/yan/Downloads/DataScience_TP/datasets/HIST_PAINEL_COVIDBR_2020_Parte2_05ago2021.csv\"\n",
    "tabela2 = pd.read_csv(dir_dataset,sep=\";\")\n",
    "\n",
    "dir_dataset = \"/home/yan/Downloads/DataScience_TP/datasets/HIST_PAINEL_COVIDBR_2021_Parte1_05ago2021.csv\"\n",
    "tabela3 = pd.read_csv(dir_dataset,sep=\";\")\n",
    "\n",
    "dir_dataset = \"/home/yan/Downloads/DataScience_TP/datasets/HIST_PAINEL_COVIDBR_2021_Parte2_05ago2021.csv\"\n",
    "tabela4 = pd.read_csv(dir_dataset,sep=\";\")"
   ]
  },
  {
   "cell_type": "markdown",
   "id": "6978da9c-85a9-44c0-9c69-b1bd7ef32c64",
   "metadata": {},
   "source": [
    "**TABELAS VACINAS**"
   ]
  },
  {
   "cell_type": "markdown",
   "id": "d48048eb-e258-4fb4-9aa2-1d4efded1283",
   "metadata": {},
   "source": [
    "A tabela de Vacinas teve as alterações como citado anteriormente, além de poder baixar tabelas personalizadas no site, podendo baixar tabelas já filtradas por regiões, faixa de idade, doses ministradas, entre outras tabelas disponibilizadas.\n",
    "A tabela utilizada no trabalho, apenas contém a quantidade de Vacinas ministradas em cada data respectivamente."
   ]
  },
  {
   "cell_type": "code",
   "execution_count": 3,
   "id": "429b8eac-69bd-4ccd-9e68-0a4c1220e6e9",
   "metadata": {},
   "outputs": [],
   "source": [
    "dir_dataset = \"/home/yan/Downloads/DataScience_TP/datasets/vacinas_aplicadas.csv\"\n",
    "vacinados = pd.read_csv(dir_dataset,sep=\",\")"
   ]
  },
  {
   "cell_type": "markdown",
   "id": "06c78190-11e0-4aab-bfb9-8d62267246d9",
   "metadata": {},
   "source": [
    "**UNIR TABELAS**"
   ]
  },
  {
   "cell_type": "code",
   "execution_count": 4,
   "id": "b5387687-becb-4f43-a226-5d0b9829e0d4",
   "metadata": {},
   "outputs": [],
   "source": [
    "tabela_final = pd.merge(tabela1, tabela2, how = \"outer\")\n",
    "tabela_final = pd.merge(tabela_final, tabela3, how = \"outer\")\n",
    "tabela_final = pd.merge(tabela_final, tabela4, how = \"outer\")"
   ]
  },
  {
   "cell_type": "markdown",
   "id": "7446f620-410b-4126-a171-41e3651ec946",
   "metadata": {},
   "source": [
    "A tabela de Covid contém as seguintes informações:\n",
    "\n",
    ".Região\n",
    "\n",
    ".Estado\n",
    "\n",
    ".Municipio\n",
    "\n",
    ".Código UF\n",
    "\n",
    ".Código Municipio\n",
    "\n",
    ".Código da Região de Sáude\n",
    "\n",
    ".Nome da Região de Saúde\n",
    "\n",
    ".Data\n",
    "\n",
    ".SemanaEpi\n",
    "\n",
    ".População\n",
    "\n",
    ".Casos Acumulados\n",
    "\n",
    ".Casos Novos\n",
    "\n",
    ".Óbitos Acumulados\n",
    "\n",
    ".Óbitos Novos\n",
    "\n",
    ".Pessoas Recuperadas\n",
    "\n",
    ".Casos em Acompanhamento\n",
    "\n",
    ".Região de Interior/Metropolitana\n",
    "\n",
    "Porém apenas utilizamos as seguintes informações e retiramos as colunas restantes:\n",
    "\n",
    ".Região\n",
    "\n",
    ".Estado\n",
    "\n",
    ".Municipio\n",
    "\n",
    ".Data\n",
    "\n",
    ".População\n",
    "\n",
    ".Casos Novos\n",
    "\n",
    ".Óbitos novos"
   ]
  },
  {
   "cell_type": "code",
   "execution_count": null,
   "id": "e51ed77a-1e9b-48f0-8d35-c5b752de03e1",
   "metadata": {},
   "outputs": [],
   "source": [
    "tabela_final"
   ]
  },
  {
   "cell_type": "code",
   "execution_count": null,
   "id": "33b847e4-9bf7-466d-98a6-e8182bf6697a",
   "metadata": {},
   "outputs": [],
   "source": [
    "tabela_final = tabela_final.drop(columns=['coduf','codmun','codRegiaoSaude','nomeRegiaoSaude','semanaEpi','casosAcumulado','obitosAcumulado','emAcompanhamentoNovos','interior/metropolitana','Recuperadosnovos'])"
   ]
  },
  {
   "cell_type": "code",
   "execution_count": null,
   "id": "06ed8327-23e9-4a97-91ae-31ef3a97d870",
   "metadata": {},
   "outputs": [],
   "source": [
    "tabela_final"
   ]
  },
  {
   "cell_type": "code",
   "execution_count": null,
   "id": "2275f5b1-7a10-45bf-ad6c-728d42a8c6e9",
   "metadata": {},
   "outputs": [],
   "source": [
    "vacinados"
   ]
  },
  {
   "cell_type": "markdown",
   "id": "cb72545a-99dd-408f-8ee6-ef5d66e60833",
   "metadata": {},
   "source": [
    "**PRE-PROCESSAMENTO**"
   ]
  },
  {
   "cell_type": "markdown",
   "id": "b1edb76d-d864-4a94-a90e-2479228820e7",
   "metadata": {},
   "source": [
    "RETIRADA DE VALORES NEGATIVOS"
   ]
  },
  {
   "cell_type": "code",
   "execution_count": null,
   "id": "022655b0-af8d-4a64-9ec2-0b1c40cdbee6",
   "metadata": {},
   "outputs": [],
   "source": [
    "indexNames = tabela_final[ tabela_final['casosNovos'] < 0 ].index\n",
    "tabela_final.drop(indexNames , inplace=True)\n",
    "\n",
    "indexNames = tabela_final[ tabela_final['obitosNovos'] < 0 ].index\n",
    "tabela_final.drop(indexNames , inplace=True)"
   ]
  },
  {
   "cell_type": "markdown",
   "id": "f0c554bf-f471-4bdd-86de-d54efa7a21e2",
   "metadata": {},
   "source": [
    "RETIRADA DA REGIÃO 'BRASIL' PARA AVALIAR REGIÃO POR REGIÃO POR CONFLITO DE VALORES"
   ]
  },
  {
   "cell_type": "code",
   "execution_count": null,
   "id": "a8a5bc09-4b4f-47c4-9607-88f562e0c390",
   "metadata": {},
   "outputs": [],
   "source": [
    "indexNames = tabela_final[ tabela_final['regiao'] == 'Brasil' ].index\n",
    "tabela_final.drop(indexNames , inplace=True)"
   ]
  },
  {
   "cell_type": "markdown",
   "id": "88a0aab0-e7dd-4b41-8c4e-8444ec7cfabf",
   "metadata": {},
   "source": [
    "CONVERTENDO O TIPO DE DADO DA COLUNA 'DATA' DE 'STRING/OBJECT' PARA 'DATA' DEFINIDO PELO PANDAS"
   ]
  },
  {
   "cell_type": "code",
   "execution_count": null,
   "id": "a5a5b3e5-b18d-4ca6-a7cf-51b2626e73e1",
   "metadata": {},
   "outputs": [],
   "source": [
    "tabela_final['data'] = tabela_final['data'].astype('object')\n",
    "tabela_final['data'] = pd.to_datetime(tabela_final['data'])\n",
    "\n",
    "vacinados['data'] = vacinados['data'].astype('object')\n",
    "vacinados['data'] = pd.to_datetime(vacinados['data'])"
   ]
  },
  {
   "cell_type": "markdown",
   "id": "86ff0a02-c209-47f1-8dd4-11cac98407f2",
   "metadata": {},
   "source": [
    "RETIRADA DE LINHAS COM OS VALORES 'NaN' NA COLUNA DE 'MUNICIPIO' "
   ]
  },
  {
   "cell_type": "code",
   "execution_count": null,
   "id": "91b1acfc-1dcc-4ce8-a80e-e857dfa061e7",
   "metadata": {},
   "outputs": [],
   "source": [
    "tabela_final = tabela_final[tabela_final['municipio'].notna()]"
   ]
  },
  {
   "cell_type": "markdown",
   "id": "3fe3e413-1533-457c-85d8-679094994aa5",
   "metadata": {},
   "source": [
    "SEPARANDO A BASE EM 2020 E 2021"
   ]
  },
  {
   "cell_type": "code",
   "execution_count": null,
   "id": "bcb3863c-1c85-4a92-9c06-cb2eda699191",
   "metadata": {},
   "outputs": [],
   "source": [
    "date1 = pd.to_datetime(\"2021-01-01\")\n",
    "\n",
    "tabela_2020 = tabela_final['data'] < date1\n",
    "tabela_2020 = tabela_final[tabela_2020]\n",
    "\n",
    "tabela_2021 = tabela_final['data'] >= date1\n",
    "tabela_2021 = tabela_final[tabela_2021]"
   ]
  },
  {
   "cell_type": "markdown",
   "id": "7b0856f4-be4e-454b-b7d2-5970b31cbad3",
   "metadata": {},
   "source": [
    "SUBDIVIDINDO AS TABELAS EM CADA REGIÃO DO PAÍS"
   ]
  },
  {
   "cell_type": "code",
   "execution_count": null,
   "id": "f13c001f-14e3-4423-b627-068fe5ecc9e7",
   "metadata": {},
   "outputs": [],
   "source": [
    "tabela_2020_Norte = tabela_2020['regiao'] == 'Norte'\n",
    "tabela_2020_Norte = tabela_2020[tabela_2020_Norte]\n",
    "\n",
    "tabela_2021_Norte = tabela_2021['regiao'] == 'Norte'\n",
    "tabela_2021_Norte = tabela_2021[tabela_2021_Norte]"
   ]
  },
  {
   "cell_type": "code",
   "execution_count": null,
   "id": "64358368-ffba-46e1-91c3-94eadb12d7ec",
   "metadata": {},
   "outputs": [],
   "source": [
    "tabela_2020_Nordeste = tabela_2020['regiao'] == 'Nordeste'\n",
    "tabela_2020_Nordeste = tabela_2020[tabela_2020_Nordeste]\n",
    "\n",
    "tabela_2021_Nordeste = tabela_2021['regiao'] == 'Nordeste'\n",
    "tabela_2021_Nordeste = tabela_2021[tabela_2021_Nordeste]"
   ]
  },
  {
   "cell_type": "code",
   "execution_count": null,
   "id": "7b2228c8-a89a-42d4-b40a-0ce14a00ab81",
   "metadata": {},
   "outputs": [],
   "source": [
    "tabela_2020_Sudeste = tabela_2020['regiao'] == 'Sudeste'\n",
    "tabela_2020_Sudeste = tabela_2020[tabela_2020_Sudeste]\n",
    "\n",
    "tabela_2021_Sudeste = tabela_2021['regiao'] == 'Sudeste'\n",
    "tabela_2021_Sudeste = tabela_2021[tabela_2021_Sudeste]"
   ]
  },
  {
   "cell_type": "code",
   "execution_count": null,
   "id": "92b4d4ab-08e5-4cd5-ace8-e7f46c69f452",
   "metadata": {},
   "outputs": [],
   "source": [
    "tabela_2020_Sul = tabela_2020['regiao'] == 'Sul'\n",
    "tabela_2020_Sul = tabela_2020[tabela_2020_Sul]\n",
    "\n",
    "tabela_2021_Sul = tabela_2021['regiao'] == 'Sul'\n",
    "tabela_2021_Sul = tabela_2021[tabela_2021_Sul]"
   ]
  },
  {
   "cell_type": "code",
   "execution_count": null,
   "id": "87fde685-1667-417c-bdaf-25bc96758b75",
   "metadata": {},
   "outputs": [],
   "source": [
    "tabela_2020_Centro_Oeste = tabela_2020['regiao'] == 'Centro-Oeste'\n",
    "tabela_2020_Centro_Oeste = tabela_2020[tabela_2020_Centro_Oeste]\n",
    "\n",
    "tabela_2021_Centro_Oeste = tabela_2021['regiao'] == 'Centro-Oeste'\n",
    "tabela_2021_Centro_Oeste = tabela_2021[tabela_2021_Centro_Oeste]"
   ]
  },
  {
   "cell_type": "markdown",
   "id": "7d6706e2-879a-4d75-af5b-094562b4b3a8",
   "metadata": {},
   "source": [
    "CRIA UMA TABELA COM TODOS OS ESTADOS DO PAÍS COM A QUANTIDADE DE CASOS NOVOS NO ANO E SUA TAXA"
   ]
  },
  {
   "cell_type": "code",
   "execution_count": null,
   "id": "58d73c33-e75a-4be7-853b-23672cd7fb20",
   "metadata": {},
   "outputs": [],
   "source": [
    "tabela_estados_20 = tabela_2020.drop_duplicates(subset=['estado'])\n",
    "\n",
    "tabela_estados_20 = tabela_estados_20.reset_index()"
   ]
  },
  {
   "cell_type": "code",
   "execution_count": null,
   "id": "ad21eecb-f4b9-43b7-9d73-94a8cca4a1b7",
   "metadata": {},
   "outputs": [],
   "source": [
    "n = 0\n",
    "string1 = tabela_estados_20['estado'][n]\n",
    "\n",
    "aux = tabela_2020['estado'] == string1 \n",
    "aux = tabela_2020[aux]\n",
    "aux2 = aux.groupby(aux['estado'])['casosNovos'].sum()\n",
    "aux2_1 = aux.groupby(aux['estado'])['obitosNovos'].sum()\n",
    "\n",
    "aux3 = aux.drop_duplicates(subset=['municipio'])\n",
    "aux3 = aux3.groupby(aux3[\"data\"].dt.year)['populacaoTCU2019'].sum()\n",
    "\n",
    "data = {'estado':[tabela_estados_20['estado'][n]],'casosNovos':[aux2.values[0]],'logCasosNovos':[np.log(aux2.values[0])],'obitosNovos':[aux2_1.values[0]],'logObitosNovos':[np.log(aux2_1.values[0])],'populacaoTCU2019':[aux3.values[0]],'taxa_casos':[(aux2.values[0]/aux3.values[0])*100]}\n",
    "tabela_estados_casos_20 = pd.DataFrame(data)\n",
    "\n",
    "n = 1\n",
    "while n < tabela_estados_20['estado'].size:\n",
    "    string1 = tabela_estados_20['estado'][n]\n",
    "    \n",
    "    aux3 = tabela_2020['estado'] == string1 \n",
    "    aux3 = tabela_2020[aux3]\n",
    "    aux4 = aux3.groupby(aux3[\"estado\"])['casosNovos'].sum()\n",
    "    aux4_1 = aux3.groupby(aux3[\"estado\"])['obitosNovos'].sum()\n",
    "    \n",
    "    aux5 = aux3.drop_duplicates(subset=['municipio'])\n",
    "    aux5 = aux5.groupby(aux5[\"data\"].dt.year)['populacaoTCU2019'].sum()\n",
    "    \n",
    "    data = {'estado':[tabela_estados_20['estado'][n]],'casosNovos':[aux4.values[0]],'logCasosNovos':[np.log(aux4.values[0])],'obitosNovos':[aux4_1.values[0]],'logObitosNovos':[np.log(aux4_1.values[0])],'populacaoTCU2019':[aux5.values[0]],'taxa_casos':[(aux4.values[0]/aux5.values[0])*100]}\n",
    "    aux6 = pd.DataFrame(data)\n",
    "    tabela_estados_casos_20 = pd.merge(tabela_estados_casos_20, aux6, how = \"outer\") \n",
    "    \n",
    "    n = n + 1"
   ]
  },
  {
   "cell_type": "code",
   "execution_count": null,
   "id": "f1d5f5fe-8946-449a-a68f-188f0c516370",
   "metadata": {},
   "outputs": [],
   "source": [
    "tabela_estados_21 = tabela_2021.drop_duplicates(subset=['estado'])\n",
    "\n",
    "tabela_estados_21 = tabela_estados_21.reset_index()"
   ]
  },
  {
   "cell_type": "code",
   "execution_count": null,
   "id": "5455181d-d7e3-4233-adfc-e091051dc5b9",
   "metadata": {},
   "outputs": [],
   "source": [
    "n = 0\n",
    "string1 = tabela_estados_21['estado'][n]\n",
    "\n",
    "aux = tabela_2021['estado'] == string1 \n",
    "aux = tabela_2021[aux]\n",
    "aux2 = aux.groupby(aux['estado'])['casosNovos'].sum()\n",
    "aux2_1 = aux.groupby(aux['estado'])['obitosNovos'].sum()\n",
    "\n",
    "aux3 = aux.drop_duplicates(subset=['municipio'])\n",
    "aux3 = aux3.groupby(aux3[\"data\"].dt.year)['populacaoTCU2019'].sum()\n",
    "\n",
    "data = {'estado':[tabela_estados_21['estado'][n]],'casosNovos':[aux2.values[0]],'logCasosNovos':[np.log(aux2.values[0])],'obitosNovos':[aux2_1.values[0]],'logObitosNovos':[np.log(aux2_1.values[0])],'populacaoTCU2019':[aux3.values[0]],'taxa_casos':[(aux2.values[0]/aux3.values[0])*100]}\n",
    "tabela_estados_casos_21 = pd.DataFrame(data)\n",
    "\n",
    "n = 1\n",
    "while n < tabela_estados_21['estado'].size:\n",
    "    string1 = tabela_estados_21['estado'][n]\n",
    "    \n",
    "    aux3 = tabela_2021['estado'] == string1 \n",
    "    aux3 = tabela_2021[aux3]\n",
    "    aux4 = aux3.groupby(aux3[\"estado\"])['casosNovos'].sum()\n",
    "    aux4_1 = aux3.groupby(aux3[\"estado\"])['obitosNovos'].sum()\n",
    "    \n",
    "    aux5 = aux3.drop_duplicates(subset=['municipio'])\n",
    "    aux5 = aux5.groupby(aux5[\"data\"].dt.year)['populacaoTCU2019'].sum()\n",
    "    \n",
    "    data = {'estado':[tabela_estados_21['estado'][n]],'casosNovos':[aux4.values[0]],'logCasosNovos':[np.log(aux4.values[0])],'obitosNovos':[aux4_1.values[0]],'logObitosNovos':[np.log(aux4_1.values[0])],'populacaoTCU2019':[aux5.values[0]],'taxa_casos':[(aux4.values[0]/aux5.values[0])*100]}\n",
    "    aux6 = pd.DataFrame(data)\n",
    "    tabela_estados_casos_21 = pd.merge(tabela_estados_casos_21, aux6, how = \"outer\") \n",
    "\n",
    "    n = n + 1"
   ]
  },
  {
   "cell_type": "code",
   "execution_count": null,
   "id": "1a4dfb9f-b96d-416f-81cb-0b1611d934e3",
   "metadata": {},
   "outputs": [],
   "source": [
    "tabela_estados_casos_20"
   ]
  },
  {
   "cell_type": "code",
   "execution_count": null,
   "id": "60c5d313-0b63-4d98-ab06-0d508320a2a5",
   "metadata": {},
   "outputs": [],
   "source": [
    "tabela_estados_casos_21"
   ]
  },
  {
   "cell_type": "markdown",
   "id": "68fd8712-b6aa-402a-aadc-e8f42ad99bfe",
   "metadata": {},
   "source": [
    "AGRUPA NO ANO DE 2020 A QUANTIDADE DE CASOS NOVOS DE CADA REGIÃO DO PAÍS"
   ]
  },
  {
   "cell_type": "code",
   "execution_count": null,
   "id": "5c67e088-d931-4bbb-8828-90da993c6971",
   "metadata": {},
   "outputs": [],
   "source": [
    "agrupamento20_Norte = tabela_2020_Norte.groupby(tabela_2020_Norte[\"data\"].dt.year)['casosNovos'].sum()\n",
    "agrupamento20_Nordeste = tabela_2020_Nordeste.groupby(tabela_2020_Nordeste[\"data\"].dt.year)['casosNovos'].sum()\n",
    "agrupamento20_Sudeste = tabela_2020_Sudeste.groupby(tabela_2020_Sudeste[\"data\"].dt.year)['casosNovos'].sum()\n",
    "agrupamento20_Sul = tabela_2020_Sul.groupby(tabela_2020_Sul[\"data\"].dt.year)['casosNovos'].sum()\n",
    "agrupamento20_Centro_Oeste = tabela_2020_Centro_Oeste.groupby(tabela_2020_Centro_Oeste[\"data\"].dt.year)['casosNovos'].sum()"
   ]
  },
  {
   "cell_type": "markdown",
   "id": "8ff89a8e-2d23-4bac-9e7d-7337eaec364b",
   "metadata": {},
   "source": [
    "AGRUPA NO ANO DE 2021 A QUANTIDADE DE CASOS NOVOS DE CADA REGIÃO DO PAÍS"
   ]
  },
  {
   "cell_type": "code",
   "execution_count": null,
   "id": "2be0ec60-76b9-47b7-a61e-e239a8dfe04e",
   "metadata": {},
   "outputs": [],
   "source": [
    "agrupamento21_Norte = tabela_2021_Norte.groupby(tabela_2021_Norte[\"data\"].dt.year)['casosNovos'].sum()\n",
    "agrupamento21_Nordeste = tabela_2021_Nordeste.groupby(tabela_2021_Nordeste[\"data\"].dt.year)['casosNovos'].sum()\n",
    "agrupamento21_Sudeste = tabela_2021_Sudeste.groupby(tabela_2021_Sudeste[\"data\"].dt.year)['casosNovos'].sum()\n",
    "agrupamento21_Sul = tabela_2021_Sul.groupby(tabela_2021_Sul[\"data\"].dt.year)['casosNovos'].sum()\n",
    "agrupamento21_Centro_Oeste = tabela_2021_Centro_Oeste.groupby(tabela_2021_Centro_Oeste[\"data\"].dt.year)['casosNovos'].sum()"
   ]
  },
  {
   "cell_type": "markdown",
   "id": "d1816830-d611-4ac5-97d5-f2328ecaf10c",
   "metadata": {},
   "source": [
    "FILTRANDO O VALOR DA POPULAÇÃO RESPECTIVAMENTE DE CADA REGIÃO"
   ]
  },
  {
   "cell_type": "code",
   "execution_count": null,
   "id": "dceab166-c174-4d5c-92cd-b891bece4313",
   "metadata": {},
   "outputs": [],
   "source": [
    "tabela_aux_NT = tabela_2021_Norte\n",
    "tabela_aux_ND = tabela_2021_Nordeste\n",
    "tabela_aux_SD = tabela_2021_Sudeste\n",
    "tabela_aux_S = tabela_2021_Sul\n",
    "tabela_aux_CO = tabela_2021_Centro_Oeste"
   ]
  },
  {
   "cell_type": "code",
   "execution_count": null,
   "id": "d47fa30c-c274-4448-bcc5-f12b8b1f669c",
   "metadata": {},
   "outputs": [],
   "source": [
    "tabela_aux_NT = tabela_aux_NT.drop_duplicates(subset=['municipio'])\n",
    "tabela_aux_ND = tabela_aux_ND.drop_duplicates(subset=['municipio'])\n",
    "tabela_aux_SD = tabela_aux_SD.drop_duplicates(subset=['municipio'])\n",
    "tabela_aux_S = tabela_aux_S.drop_duplicates(subset=['municipio'])\n",
    "tabela_aux_CO = tabela_aux_CO.drop_duplicates(subset=['municipio'])"
   ]
  },
  {
   "cell_type": "code",
   "execution_count": null,
   "id": "874e0957-13b3-4f0c-80f0-4700adf6ffc1",
   "metadata": {},
   "outputs": [],
   "source": [
    "pop_NT = tabela_aux_NT.groupby(tabela_aux_NT[\"data\"].dt.year)['populacaoTCU2019'].sum()\n",
    "pop_ND = tabela_aux_ND.groupby(tabela_aux_ND[\"data\"].dt.year)['populacaoTCU2019'].sum()\n",
    "pop_SD = tabela_aux_SD.groupby(tabela_aux_SD[\"data\"].dt.year)['populacaoTCU2019'].sum()\n",
    "pop_S = tabela_aux_S.groupby(tabela_aux_S[\"data\"].dt.year)['populacaoTCU2019'].sum()\n",
    "pop_CO = tabela_aux_CO.groupby(tabela_aux_CO[\"data\"].dt.year)['populacaoTCU2019'].sum()"
   ]
  },
  {
   "cell_type": "markdown",
   "id": "ed6a677e-b010-44e0-9332-ebdb38a66de4",
   "metadata": {},
   "source": [
    "POPULAÇÃO DAS REGIÕES"
   ]
  },
  {
   "cell_type": "code",
   "execution_count": null,
   "id": "a53a838d-f5da-471e-a9fc-41430467bc6a",
   "metadata": {},
   "outputs": [],
   "source": [
    "pop_R = pd.Series([pop_NT.values[0],pop_ND.values[0],pop_SD.values[0],pop_S.values[0],pop_CO.values[0]])"
   ]
  },
  {
   "cell_type": "markdown",
   "id": "1325c431-b69f-4948-9cf2-eb2470fc094f",
   "metadata": {},
   "source": [
    "POPULAÇÃO DO BRASIL"
   ]
  },
  {
   "cell_type": "code",
   "execution_count": null,
   "id": "c2ec52da-5735-42c3-b3e0-7c752423432e",
   "metadata": {},
   "outputs": [],
   "source": [
    "pop_B = pop_NT.values[0] + pop_ND.values[0] + pop_SD.values[0] + pop_S.values[0] + pop_CO.values[0]"
   ]
  },
  {
   "cell_type": "markdown",
   "id": "50ac3917-7c47-4323-8380-41dbabc9966e",
   "metadata": {},
   "source": [
    "INDICE DE CASOS NOVOS"
   ]
  },
  {
   "cell_type": "code",
   "execution_count": null,
   "id": "8302fe89-262a-4e86-91a0-6a4e00a5427b",
   "metadata": {},
   "outputs": [],
   "source": [
    "indice_casos_novos_20 = pd.Series([(agrupamento20_Norte.values[0]/pop_NT.values[0])*100,(agrupamento20_Nordeste.values[0]/pop_ND.values[0])*100,(agrupamento20_Sudeste.values[0]/pop_SD.values[0])*100,(agrupamento20_Sul.values[0]/pop_S.values[0])*100,(agrupamento20_Centro_Oeste.values[0]/pop_CO.values[0])*100])\n",
    "\n",
    "indice_casos_novos_21 = pd.Series([(agrupamento21_Norte.values[0]/pop_NT.values[0])*100,(agrupamento21_Nordeste.values[0]/pop_ND.values[0])*100,(agrupamento21_Sudeste.values[0]/pop_SD.values[0])*100,(agrupamento21_Sul.values[0]/pop_S.values[0])*100,(agrupamento21_Centro_Oeste.values[0]/pop_CO.values[0])*100])"
   ]
  },
  {
   "cell_type": "markdown",
   "id": "d93aa0cd-5d9b-4602-9bb8-75d130d025dc",
   "metadata": {},
   "source": [
    "AGRUPAMENTO PARA UTILIZAÇÃO DOS GRAFICOS"
   ]
  },
  {
   "cell_type": "code",
   "execution_count": null,
   "id": "0f69d8bd-97e0-48cd-86ae-88f5c9480e04",
   "metadata": {},
   "outputs": [],
   "source": [
    "agrupamentoCasosNovos2020 = tabela_2020.groupby(tabela_2020[\"data\"].dt.month)['casosNovos'].sum()\n",
    "agrupamentoCasosNovos2021 = tabela_2021.groupby(tabela_2021[\"data\"].dt.month)['casosNovos'].sum()\n",
    "\n",
    "agrupamento_vacinado = vacinados.groupby(vacinados[\"data\"].dt.month)['dosesAplicadas'].sum()\n",
    "\n",
    "agrupamentoObitos2020 = tabela_2020.groupby(tabela_2020[\"data\"].dt.month)['obitosNovos'].sum()\n",
    "agrupamentoObitos2021 = tabela_2021.groupby(tabela_2021[\"data\"].dt.month)['obitosNovos'].sum()"
   ]
  },
  {
   "cell_type": "markdown",
   "id": "33c3c23d-f273-474d-9eeb-e5bae9be7fe7",
   "metadata": {},
   "source": [
    "CRIAÇÃO DE OBITOS ACUMULADOS"
   ]
  },
  {
   "cell_type": "code",
   "execution_count": null,
   "id": "f6501c60-9e5b-4ecd-a15e-b2a0c81c5fac",
   "metadata": {},
   "outputs": [],
   "source": [
    "serie = {'mes':[agrupamentoObitos2020.index[0]],'obitosAcumulados':[agrupamentoObitos2020.values[0]]}\n",
    "agrupamentoObitosAcumulados2020 = pd.DataFrame(serie)\n",
    "i = 1\n",
    "while i < agrupamentoObitos2020.values.size:\n",
    "    serie = {'mes':[agrupamentoObitos2020.index[i]],'obitosAcumulados':[agrupamentoObitos2020.values[i] + agrupamentoObitosAcumulados2020['obitosAcumulados'][i-1]]}\n",
    "    dataAux = pd.DataFrame(serie)\n",
    "    agrupamentoObitosAcumulados2020 = pd.merge(agrupamentoObitosAcumulados2020, dataAux, how = \"outer\") \n",
    "    i = i + 1\n",
    "\n",
    "serie = {'mes':[agrupamentoObitos2021.index[0]],'obitosAcumulados':[agrupamentoObitosAcumulados2020['obitosAcumulados'][9]]}\n",
    "agrupamentoObitosAcumulados2021 = pd.DataFrame(serie)\n",
    "i = 1\n",
    "while i < agrupamentoObitos2021.values.size:\n",
    "    serie = {'mes':[agrupamentoObitos2021.index[i]],'obitosAcumulados':[agrupamentoObitos2021.values[i] + agrupamentoObitosAcumulados2021['obitosAcumulados'][i-1]]}\n",
    "    dataAux = pd.DataFrame(serie)\n",
    "    agrupamentoObitosAcumulados2021 = pd.merge(agrupamentoObitosAcumulados2021, dataAux, how = \"outer\") \n",
    "    i = i + 1"
   ]
  },
  {
   "cell_type": "markdown",
   "id": "bc106f1d-9369-43f5-a913-0e13c2c0c431",
   "metadata": {},
   "source": [
    "GERAÇÃO DO MAPA EPIDEMIOLOGICO"
   ]
  },
  {
   "cell_type": "code",
   "execution_count": null,
   "id": "b5d614f1-3839-410a-a3c0-8a88ed47729d",
   "metadata": {},
   "outputs": [],
   "source": [
    "mapa = folium.Map(\n",
    "    width = \"100%\",\n",
    "    height = \"100%\",\n",
    "    location = [-15.77972,-47.92972],\n",
    "    zoom_start = 3\n",
    ")"
   ]
  },
  {
   "cell_type": "code",
   "execution_count": null,
   "id": "c0bfd51a-d0dd-48d9-a759-ed5bbf7a970c",
   "metadata": {},
   "outputs": [],
   "source": [
    "br_estados_loc = json.load(open(\"/home/yan/Downloads/tp/datasets/br_estados.json\"))"
   ]
  },
  {
   "cell_type": "code",
   "execution_count": null,
   "id": "41b5d0b5-3598-42a2-951e-31cad83e8df1",
   "metadata": {},
   "outputs": [],
   "source": [
    "folium.Choropleth(\n",
    "    geo_data = br_estados_loc,\n",
    "    name = \"CASOS_20\",\n",
    "    data = tabela_estados_casos_20,\n",
    "    columns = ['estado','casosNovos'],\n",
    "    key_on = 'feature.id',\n",
    "    fill_collor = \"YlOrRd\",\n",
    "    fill_opacity = 0.6,\n",
    "    line_color = 'white',\n",
    "    line_opacity = 0.8,\n",
    "    show = False,\n",
    "    legend_name = \"Casos de Covid no Brasil 2020\"\n",
    ").add_to(mapa)"
   ]
  },
  {
   "cell_type": "code",
   "execution_count": null,
   "id": "2c68f3fd-ad76-43f5-b323-ab77fa42b0ba",
   "metadata": {},
   "outputs": [],
   "source": [
    "folium.Choropleth(\n",
    "    geo_data = br_estados_loc,\n",
    "    name = \"LOG_CASOS_20\",\n",
    "    data = tabela_estados_casos_20,\n",
    "    columns = ['estado','logCasosNovos'],\n",
    "    key_on = 'feature.id',\n",
    "    fill_collor = \"PuBu\",\n",
    "    fill_opacity = 0.6,\n",
    "    line_color = 'white',\n",
    "    line_opacity = 0.8,\n",
    "    show = False,\n",
    "    legend_name = \"Log de Casos de Covid no Brasil 2020\"\n",
    ").add_to(mapa)"
   ]
  },
  {
   "cell_type": "code",
   "execution_count": null,
   "id": "207419f9-33a6-40b9-b247-cf6dc0db1a14",
   "metadata": {},
   "outputs": [],
   "source": [
    "folium.Choropleth(\n",
    "    geo_data = br_estados_loc,\n",
    "    name = \"LOG_OBITOS_20\",\n",
    "    data = tabela_estados_casos_20,\n",
    "    columns = ['estado','logObitosNovos'],\n",
    "    key_on = 'feature.id',\n",
    "    fill_collor = \"YlOrRd\",\n",
    "    fill_opacity = 0.6,\n",
    "    line_color = 'white',\n",
    "    line_opacity = 0.8,\n",
    "    show = False,\n",
    "    legend_name = \"Log de Obitos de Covid no Brasil 2020\"\n",
    ").add_to(mapa)"
   ]
  },
  {
   "cell_type": "code",
   "execution_count": null,
   "id": "d44ce1e7-bcbb-43d2-ae6a-714f8745b200",
   "metadata": {},
   "outputs": [],
   "source": [
    "folium.Choropleth(\n",
    "    geo_data = br_estados_loc,\n",
    "    name = \"LOG_CASOS_21\",\n",
    "    data = tabela_estados_casos_21,\n",
    "    columns = ['estado','logCasosNovos'],\n",
    "    key_on = 'feature.id',\n",
    "    fill_collor = \"PuBu\",\n",
    "    fill_opacity = 0.6,\n",
    "    line_color = 'white',\n",
    "    line_opacity = 0.8,\n",
    "    show = False,\n",
    "    legend_name = \"Log de Casos de Covid no Brasil 2021\"\n",
    ").add_to(mapa)"
   ]
  },
  {
   "cell_type": "code",
   "execution_count": null,
   "id": "6af77296-7731-4bc0-805b-1ac1051a1d9e",
   "metadata": {},
   "outputs": [],
   "source": [
    "folium.Choropleth(\n",
    "    geo_data = br_estados_loc,\n",
    "    name = \"LOG_OBITOS_21\",\n",
    "    data = tabela_estados_casos_21,\n",
    "    columns = ['estado','logObitosNovos'],\n",
    "    key_on = 'feature.id',\n",
    "    fill_collor = \"YlOrRd\",\n",
    "    fill_opacity = 0.6,\n",
    "    line_color = 'white',\n",
    "    line_opacity = 0.8,\n",
    "    show = False,\n",
    "    legend_name = \"Log de Obitos de Covid no Brasil 2021\"\n",
    ").add_to(mapa)"
   ]
  },
  {
   "cell_type": "code",
   "execution_count": null,
   "id": "6371809f-8969-4df0-9bcd-060e4083b36a",
   "metadata": {},
   "outputs": [],
   "source": [
    "folium.LayerControl().add_to(mapa)"
   ]
  },
  {
   "cell_type": "code",
   "execution_count": null,
   "id": "cdef1f67-d2ed-4e0b-8f70-c1ecbd3b68e3",
   "metadata": {},
   "outputs": [],
   "source": [
    "mapa.save('/home/yan/Downloads/DataScience_TP/mapa_epidemiologico/covid.html')"
   ]
  },
  {
   "cell_type": "markdown",
   "id": "7974886e-c22a-4374-ab61-1983ab2c0b28",
   "metadata": {},
   "source": [
    "**PERGUNTAS**"
   ]
  },
  {
   "cell_type": "markdown",
   "id": "f17a2665-7f75-4a8b-b493-f610f88f9a07",
   "metadata": {},
   "source": [
    "1) Desde o começo da pandemia, teve alguma época onde teve um decaimento significativo de casos confirmados no Brasil?"
   ]
  },
  {
   "cell_type": "code",
   "execution_count": null,
   "id": "a6517e85-5b88-4251-843f-d60020aff7ce",
   "metadata": {},
   "outputs": [],
   "source": [
    "interval = np.arange(3,13,1)\n",
    "\n",
    "fig, ax = plt.subplots()\n",
    "ax.plot(agrupamentoCasosNovos2020.index, agrupamentoCasosNovos2020.values, label='Casos Confirmados')\n",
    "ax.set_xticks(interval)\n",
    "ax.set_xticks(interval, minor=True)\n",
    "ax.set(xlabel='Mês', ylabel='Pessoas', title='Covid em 2020')\n",
    "ax.legend()\n",
    "ax.grid()\n",
    "\n",
    "plt.show()"
   ]
  },
  {
   "cell_type": "markdown",
   "id": "9c48a1bf-b84b-45c1-9302-dfd01baa1022",
   "metadata": {},
   "source": [
    "No ano de 2020, tivemos um decaimento de **Novos Casos Confirmados** durante o período de Agosto até Novembro, que depois começa a ter uma crescida nos casos novamente bem significativa"
   ]
  },
  {
   "cell_type": "code",
   "execution_count": null,
   "id": "6305ab3c-55ea-4c3b-b2f0-29860f5288a9",
   "metadata": {},
   "outputs": [],
   "source": [
    "fig, ax = plt.subplots()\n",
    "ax.plot(agrupamentoCasosNovos2021.index, agrupamentoCasosNovos2021.values, label='Novos Casos')\n",
    "\n",
    "ax.set(xlabel='Mês', ylabel='Pessoas', title='Covid em 2021')\n",
    "ax.legend()\n",
    "ax.grid()\n",
    "\n",
    "plt.show()"
   ]
  },
  {
   "cell_type": "code",
   "execution_count": null,
   "id": "87ef55bc-a22f-4e24-b32d-b65284c300ea",
   "metadata": {},
   "outputs": [],
   "source": [
    "fig, ax = plt.subplots()\n",
    "ax.plot(agrupamentoCasosNovos2021.index, agrupamentoCasosNovos2021.values, label='Novos Casos')\n",
    "ax.plot(agrupamento_vacinado.index, agrupamento_vacinado.values, label='Vacinadas')\n",
    "\n",
    "ax.set(xlabel='Mês', ylabel='Pessoas', title='Covid em 2021')\n",
    "ax.legend()\n",
    "ax.grid()\n",
    "\n",
    "plt.show()"
   ]
  },
  {
   "cell_type": "markdown",
   "id": "ad00b26d-d713-48b7-bbfe-de3a190ef9cd",
   "metadata": {},
   "source": [
    "Já em 2021, podemos observar 3 quedas, porém só uma realmente é significativa, que é no mês de Junho para Julho, lembrando que de Julho para Agosto podemos desconsiderar, já que os dados coletados, tem o limite no dia 05 de Agosto, assim tendo poucos dias para ter um resultado realmente significativo de novos casos no mês.\n",
    "E olhando o gráfico de **Novos Casos Confirmados** em relação a **Quantidade de Vacinas Ministradas no Mês**, a quantidade de novos casos se mantém no linear, tendo todo mês uma mesma quantidade de casos novos, só no final onde temos um pico de pessoas sendo vacinadas que temos um decaimento significativo nos novos casos de contaminação."
   ]
  },
  {
   "cell_type": "markdown",
   "id": "3b07355b-ecf8-4422-8f19-b78a2aaa132f",
   "metadata": {},
   "source": [
    "2) Quais estados e regiões tiveram um maior índice de casos confirmados em relação ao seu total de habitantes?"
   ]
  },
  {
   "cell_type": "markdown",
   "id": "6a904974-cab6-48ad-af5f-f05d597b5f4f",
   "metadata": {},
   "source": [
    "INDICE DE CASOS NOVOS EM 2020"
   ]
  },
  {
   "cell_type": "markdown",
   "id": "28a3a2e4-f2ac-4241-8740-f4ced4ee619b",
   "metadata": {},
   "source": [
    "REGIAO:"
   ]
  },
  {
   "cell_type": "code",
   "execution_count": null,
   "id": "affb6310-a870-4335-ba9e-2bcb021bbdf0",
   "metadata": {},
   "outputs": [],
   "source": [
    "indice_mar_2020 = 0\n",
    "\n",
    "if(indice_casos_novos_20.idxmax() == 0):\n",
    "    print('Norte com o maior indice de novos casos em: ')\n",
    "    print(indice_casos_novos_20.max())\n",
    "    indice_mar_2020 = 'Norte ' + str(indice_casos_novos_20.max())\n",
    "if(indice_casos_novos_20.idxmax() == 1):\n",
    "    print('Nordeste com o maior indice de novos casos em: ')\n",
    "    print(indice_casos_novos_20.max())\n",
    "    indice_mar_2020 = 'Nordeste ' + str(indice_casos_novos_20.max())\n",
    "if(indice_casos_novos_20.idxmax() == 2):\n",
    "    print('Sudeste com o maior indice de novos casos em: ')\n",
    "    print(indice_casos_novos_20.max())\n",
    "    indice_mar_2020 = 'Suldeste ' + str(indice_casos_novos_20.max())\n",
    "if(indice_casos_novos_20.idxmax() == 3):\n",
    "    print('Sul com o maior indice de novos casos em: ')\n",
    "    print(indice_casos_novos_20.max())\n",
    "    indice_mar_2020 = 'Sul ' + str(indice_casos_novos_20.max())\n",
    "if(indice_casos_novos_20.idxmax() == 4):\n",
    "    print('Centro-Oeste com o maior indice de novos casos em: ')\n",
    "    print(indice_casos_novos_20.max())\n",
    "    indice_mar_2020 = 'Centro-Oeste ' + str(indice_casos_novos_20.max())"
   ]
  },
  {
   "cell_type": "code",
   "execution_count": null,
   "id": "092a1ec8-6e49-4327-8397-ae6a598e9c77",
   "metadata": {},
   "outputs": [],
   "source": [
    "tabela_estados_casos_20['estado'][tabela_estados_casos_20['taxa_casos'].idxmax()]"
   ]
  },
  {
   "cell_type": "code",
   "execution_count": null,
   "id": "94ccc4d9-bda6-4c0b-b77c-f7ff8f6559d1",
   "metadata": {},
   "outputs": [],
   "source": [
    "tabela_estados_casos_20['taxa_casos'][tabela_estados_casos_20['taxa_casos'].idxmax()]"
   ]
  },
  {
   "cell_type": "code",
   "execution_count": null,
   "id": "147bd8bb-3c94-4376-85d4-f4177e80f239",
   "metadata": {},
   "outputs": [],
   "source": [
    "indice_mae_2020 = tabela_estados_casos_20['estado'][tabela_estados_casos_20['taxa_casos'].idxmax()] + ' ' +str(tabela_estados_casos_20['taxa_casos'][tabela_estados_casos_20['taxa_casos'].idxmax()])"
   ]
  },
  {
   "cell_type": "markdown",
   "id": "d425db90-ead7-4fbd-9bf7-b993c1b79c2a",
   "metadata": {},
   "source": [
    "INDICE DE CASOS NOVOS EM 2021"
   ]
  },
  {
   "cell_type": "markdown",
   "id": "31858300-a3d2-47f9-9d5a-3639c6416e28",
   "metadata": {},
   "source": [
    "REGIAO:"
   ]
  },
  {
   "cell_type": "code",
   "execution_count": null,
   "id": "d9973194-dfe2-4435-a851-64090b3e3808",
   "metadata": {},
   "outputs": [],
   "source": [
    "indice_mar_2021 = 0\n",
    "\n",
    "if(indice_casos_novos_21.idxmax() == 0):\n",
    "    print('Norte com o maior indice de novos casos em: ')\n",
    "    print(indice_casos_novos_21.max())\n",
    "    indice_mar_2021 = 'Norte ' + str(indice_casos_novos_21.max())\n",
    "if(indice_casos_novos_21.idxmax() == 1):\n",
    "    print('Nordeste com o maior indice de novos casos em: ')\n",
    "    print(indice_casos_novos_21.max())\n",
    "    indice_mar_2021 = 'Nordeste ' + str(indice_casos_novos_21.max())\n",
    "if(indice_casos_novos_21.idxmax() == 2):\n",
    "    print('Sudeste com o maior indice de novos casos em: ')\n",
    "    print(indice_casos_novos_21.max())\n",
    "    indice_mar_2021 = 'Sudeste ' + str(indice_casos_novos_21.max())\n",
    "if(indice_casos_novos_21.idxmax() == 3):\n",
    "    print('Sul com o maior indice de novos casos em: ')\n",
    "    print(indice_casos_novos_21.max())\n",
    "    indice_mar_2021 = 'Sul ' + str(indice_casos_novos_21.max())\n",
    "if(indice_casos_novos_21.idxmax() == 4):\n",
    "    print('Centro-Oeste com o maior indice de novos casos em: ')\n",
    "    print(indice_casos_novos_21.max())\n",
    "    indice_mar_2021 = 'Centro-Oeste ' + str(indice_casos_novos_21.max())"
   ]
  },
  {
   "cell_type": "markdown",
   "id": "150e5957-497a-465f-906e-7bfe86006aa7",
   "metadata": {},
   "source": [
    "ESTADO:"
   ]
  },
  {
   "cell_type": "code",
   "execution_count": null,
   "id": "906e2cf8-3be4-4908-881d-738f469505fb",
   "metadata": {},
   "outputs": [],
   "source": [
    "tabela_estados_casos_21['estado'][tabela_estados_casos_21['taxa_casos'].idxmax()]"
   ]
  },
  {
   "cell_type": "code",
   "execution_count": null,
   "id": "91950503-2687-4d42-821e-b9ae3294285d",
   "metadata": {},
   "outputs": [],
   "source": [
    "tabela_estados_casos_21['taxa_casos'][tabela_estados_casos_21['taxa_casos'].idxmax()]"
   ]
  },
  {
   "cell_type": "code",
   "execution_count": null,
   "id": "b3506e59-ddad-4b4f-918e-487a31ce7a7e",
   "metadata": {},
   "outputs": [],
   "source": [
    "indice_mae_2021 = tabela_estados_casos_21['estado'][tabela_estados_casos_21['taxa_casos'].idxmax()] + ' ' + str(tabela_estados_casos_21['taxa_casos'][tabela_estados_casos_21['taxa_casos'].idxmax()]) "
   ]
  },
  {
   "cell_type": "markdown",
   "id": "56940245-bfe8-4ac5-b1af-42807da8504f",
   "metadata": {},
   "source": [
    "3) Em algum estado teve um índice de casos confirmados que seja pequeno o suficiente para se dizer que teve métodos eficazes"
   ]
  },
  {
   "cell_type": "code",
   "execution_count": null,
   "id": "38587900-d661-4e1f-b9c9-28aaeedd64c9",
   "metadata": {},
   "outputs": [],
   "source": [
    "indice_mer_2020 = 0\n",
    "\n",
    "if(indice_casos_novos_20.idxmin() == 0):\n",
    "    print('Norte com o menor indice de novos casos em: ')\n",
    "    print(indice_casos_novos_20.min())\n",
    "    indice_mer_2020 = 'Norte ' + str(indice_casos_novos_20.min())\n",
    "if(indice_casos_novos_20.idxmin() == 1):\n",
    "    print('Nordeste com o menor indice de novos casos em: ')\n",
    "    print(indice_casos_novos_20.min())\n",
    "    indice_mer_2020 = 'Nordeste ' + str(indice_casos_novos_20.min())\n",
    "if(indice_casos_novos_20.idxmin() == 2):\n",
    "    print('Sudeste com o menor indice de novos casos em: ')\n",
    "    print(indice_casos_novos_20.min())\n",
    "    indice_mer_2020 = 'Sudeste ' + str(indice_casos_novos_20.min())\n",
    "if(indice_casos_novos_20.idxmin() == 3):\n",
    "    print('Sul com o menor indice de novos casos em: ')\n",
    "    print(indice_casos_novos_20.min())\n",
    "    indice_mer_2020 = 'Sul ' + str(indice_casos_novos_20.min())\n",
    "if(indice_casos_novos_20.idxmin() == 4):\n",
    "    print('Centro-Oeste com o menor indice de novos casos em: ')\n",
    "    print(indice_casos_novos_20.min())\n",
    "    indice_mer_2020 = 'Centro-Oeste ' + str(indice_casos_novos_20.min())"
   ]
  },
  {
   "cell_type": "code",
   "execution_count": null,
   "id": "9de21010-fc2b-49f2-b847-97a33a257cb0",
   "metadata": {},
   "outputs": [],
   "source": [
    "indice_mer_2021 = 0\n",
    "\n",
    "if(indice_casos_novos_21.idxmin() == 0):\n",
    "    print('Norte com o menor indice de novos casos em: ')\n",
    "    print(indice_casos_novos_21.min())\n",
    "    indice_mer_2021 = 'Norte ' + str(indice_casos_novos_20.min())\n",
    "if(indice_casos_novos_21.idxmin() == 1):\n",
    "    print('Nordeste com o menor indice de novos casos em: ')\n",
    "    print(indice_casos_novos_21.min())\n",
    "    indice_mer_2021 = 'Nordeste ' + str(indice_casos_novos_20.min())\n",
    "if(indice_casos_novos_21.idxmin() == 2):\n",
    "    print('Sudeste com o menor indice de novos casos em: ')\n",
    "    print(indice_casos_novos_21.min())\n",
    "    indice_mer_2021 = 'Sudeste ' + str(indice_casos_novos_20.min())\n",
    "if(indice_casos_novos_21.idxmin() == 3):\n",
    "    print('Sul com o menor indice de novos casos em: ')\n",
    "    print(indice_casos_novos_21.min())\n",
    "    indice_mer_2021 = 'Sul ' + str(indice_casos_novos_20.min())\n",
    "if(indice_casos_novos_21.idxmin() == 4):\n",
    "    print('Centro-Oeste com o menor indice de novos casos em: ')\n",
    "    print(indice_casos_novos_21.min())\n",
    "    indice_mer_2021 = 'Centro-Oeste ' + str(indice_casos_novos_20.min())"
   ]
  },
  {
   "cell_type": "code",
   "execution_count": null,
   "id": "2e2f4a3c-8f4c-402c-8d22-c3b4518183bc",
   "metadata": {},
   "outputs": [],
   "source": [
    "tabela_estados_casos_20['estado'][tabela_estados_casos_20['taxa_casos'].idxmin()]\n",
    "tabela_estados_casos_20['taxa_casos'][tabela_estados_casos_20['taxa_casos'].idxmin()]\n",
    "indice_mee_2020 = tabela_estados_casos_20['estado'][tabela_estados_casos_20['taxa_casos'].idxmin()] + ' ' + str(tabela_estados_casos_20['taxa_casos'][tabela_estados_casos_20['taxa_casos'].idxmin()])\n",
    "tabela_estados_casos_21['estado'][tabela_estados_casos_21['taxa_casos'].idxmin()]\n",
    "tabela_estados_casos_21['taxa_casos'][tabela_estados_casos_21['taxa_casos'].idxmin()]\n",
    "indice_mee_2021 = tabela_estados_casos_21['estado'][tabela_estados_casos_21['taxa_casos'].idxmin()] + ' ' + str(tabela_estados_casos_21['taxa_casos'][tabela_estados_casos_21['taxa_casos'].idxmin()]) "
   ]
  },
  {
   "cell_type": "markdown",
   "id": "b2f413ef-3a45-4fb0-88fb-6e14f919da47",
   "metadata": {},
   "source": [
    "Maior taxa para Estado e Região"
   ]
  },
  {
   "cell_type": "code",
   "execution_count": null,
   "id": "97d75aaf-48d7-42c5-84eb-db96fef3412e",
   "metadata": {},
   "outputs": [],
   "source": [
    "print('2020:')\n",
    "print(indice_mar_2020)\n",
    "print(indice_mae_2020)\n",
    "print('2021:')\n",
    "print(indice_mar_2021)\n",
    "print(indice_mae_2021)"
   ]
  },
  {
   "cell_type": "markdown",
   "id": "2752eb2c-f1dc-4222-b98f-993721ff391d",
   "metadata": {},
   "source": [
    "Menor taxa para Estado e Região"
   ]
  },
  {
   "cell_type": "code",
   "execution_count": null,
   "id": "72d891f5-13b1-46cd-bedb-457932473517",
   "metadata": {},
   "outputs": [],
   "source": [
    "print('2020:')\n",
    "print(indice_mer_2020)\n",
    "print(indice_mee_2020)\n",
    "print('2021:')\n",
    "print(indice_mer_2021)\n",
    "print(indice_mee_2021)"
   ]
  },
  {
   "cell_type": "markdown",
   "id": "5ee3a4a5-ada1-485b-b3cf-03abbbb4a8ef",
   "metadata": {},
   "source": [
    "Observado as taxas de **Casos Novos** em estados, não temos uma grande variação na taxa que seja significativo para um estado ter um controle significativo de disseminação do vírus, porém, quando olhamos as taxas em regiões, temos uma variação de 10% nas taxas, podendo observar que alguma região pode ter número que sejam significativos para tentar estudar os meios utilizados para o controle da disseminação do vírus, porém, com outras regiões com taxas maiores, acaba que estabilizando as taxas comparativas de cada estado."
   ]
  },
  {
   "cell_type": "markdown",
   "id": "6761faf9-594d-43c7-a209-082ea9974531",
   "metadata": {},
   "source": [
    "4) Como é o gráfico ao longo do tempo de casos confirmados e de óbitos? Existe algum comportamento semelhante entre os dois?"
   ]
  },
  {
   "cell_type": "code",
   "execution_count": null,
   "id": "ce9dbb1f-70d1-4ed7-b263-0cb5261a4e3b",
   "metadata": {},
   "outputs": [],
   "source": [
    "interval = np.arange(3,13,1)\n",
    "\n",
    "fig, ax = plt.subplots()\n",
    "ax.plot(agrupamentoCasosNovos2020.index, agrupamentoCasosNovos2020.values, label='Casos Novos')\n",
    "ax.plot(agrupamentoObitos2020.index, agrupamentoObitos2020.values, label='Óbitos Novos')\n",
    "ax.plot(agrupamentoObitosAcumulados2020['mes'], agrupamentoObitosAcumulados2020['obitosAcumulados'], label='Óbitos Acumulados')\n",
    "\n",
    "ax.set_xticks(interval)\n",
    "ax.set_xticks(interval, minor=True)\n",
    "ax.set(xlabel='Mês', ylabel='Pessoas', title='Covid em 2020')\n",
    "ax.legend()\n",
    "ax.grid()\n",
    "\n",
    "plt.show()"
   ]
  },
  {
   "cell_type": "code",
   "execution_count": null,
   "id": "4dd9dbe5-b6ed-4e9d-abac-a9dea431890a",
   "metadata": {},
   "outputs": [],
   "source": [
    "interval = np.arange(1,9,1)\n",
    "\n",
    "fig, ax = plt.subplots()\n",
    "ax.plot(agrupamentoCasosNovos2021.index, agrupamentoCasosNovos2021.values, label='Casos Novos')\n",
    "ax.plot(agrupamentoObitos2021.index, agrupamentoObitos2021.values, label='Óbitos Novos')\n",
    "ax.plot(agrupamentoObitosAcumulados2021['mes'], agrupamentoObitosAcumulados2021['obitosAcumulados'], label='Óbitos Acumulados')\n",
    "\n",
    "ax.set_xticks(interval)\n",
    "ax.set_xticks(interval, minor=True)\n",
    "ax.set(xlabel='Mês', ylabel='Pessoas', title='Covid em 2021')\n",
    "ax.legend()\n",
    "ax.grid()\n",
    "\n",
    "plt.show()"
   ]
  },
  {
   "cell_type": "code",
   "execution_count": null,
   "id": "a76806bd-bc66-473c-a63f-5263123d105e",
   "metadata": {},
   "outputs": [],
   "source": [
    "interval = np.arange(1,9,1)\n",
    "\n",
    "fig, ax = plt.subplots()\n",
    "ax.plot(agrupamentoCasosNovos2021.index, agrupamentoCasosNovos2021.values, label='Casos Novos')\n",
    "ax.plot(agrupamentoObitos2021.index, agrupamentoObitos2021.values, label='Óbitos Novos')\n",
    "ax.plot(agrupamentoObitosAcumulados2021['mes'], agrupamentoObitosAcumulados2021['obitosAcumulados'], label='Óbitos Acumulados')\n",
    "ax.plot(agrupamento_vacinado.index, agrupamento_vacinado.values, label='Vacinadas')\n",
    "\n",
    "ax.set_xticks(interval)\n",
    "ax.set_xticks(interval, minor=True)\n",
    "ax.set(xlabel='Mês', ylabel='Pessoas', title='Covid em 2021')\n",
    "ax.legend()\n",
    "ax.grid()\n",
    "\n",
    "plt.show()"
   ]
  }
 ],
 "metadata": {
  "kernelspec": {
   "display_name": "Python 3",
   "language": "python",
   "name": "python3"
  },
  "language_info": {
   "codemirror_mode": {
    "name": "ipython",
    "version": 3
   },
   "file_extension": ".py",
   "mimetype": "text/x-python",
   "name": "python",
   "nbconvert_exporter": "python",
   "pygments_lexer": "ipython3",
   "version": "3.8.8"
  }
 },
 "nbformat": 4,
 "nbformat_minor": 5
}
