{
 "cells": [
  {
   "cell_type": "markdown",
   "id": "36922634-6427-4688-8e02-3eb0ecd97cb6",
   "metadata": {},
   "source": [
    "Trabalho referente a disciplina de TECNOLOGIAS PARA DATASCIENCE, ministrada pela Professora Dr Carolina Ribeiro Xavier no curso de Ciência da Computação - UFSJ"
   ]
  },
  {
   "cell_type": "markdown",
   "id": "e3a98354-47e7-4f09-abcd-4d1a8019ebab",
   "metadata": {},
   "source": [
    "Este trabalho tem como objetivo analisar um pouco o crescimento e espalhamento de casos do Covid pelo Brasil,seus óbitos, e fazer um paralelo com a quantidade de pessoas vacinadas no ano de 2021.\n",
    "Os dados foram retirados de 2 sites diferentes e ambos os dados foram baixados no dia 05/ago/21.\n",
    "\n",
    "**Covid**: https://covid.saude.gov.br/\n",
    "\n",
    "\n",
    "**Vacinas**: https://qsprod.saude.gov.br/extensions/DEMAS_C19Vacina/DEMAS_C19Vacina.html\n",
    "\n",
    "Dos arquivos baixados, apenas o arquio de vacinas foi alterado, tendo trocado a formatação dos números, sendo retirado as ',' dos números e das datas, trocando a ordem dos dias com dos meses, para manter a formatação de datas apresentada nos arquivos do Covid."
   ]
  },
  {
   "cell_type": "markdown",
   "id": "960039a3-478a-457d-81c8-5580734d99b9",
   "metadata": {},
   "source": [
    "**BIBLIOTECAS**"
   ]
  },
  {
   "cell_type": "markdown",
   "id": "84d3f944-053a-4f1a-9cf9-0e5ffef1173d",
   "metadata": {},
   "source": [
    "Todas as bibliotecas utilizadas no trabalho foram as:\n",
    "\n",
    ".Pandas\n",
    "\n",
    ".Matplotlib\n",
    "\n",
    ".Numpy\n",
    "\n",
    ".DateTime\n",
    "\n",
    ".Folium\n",
    "\n",
    ".json"
   ]
  },
  {
   "cell_type": "code",
   "execution_count": 1,
   "id": "fa7964ea-ce2c-4b28-9b54-4d2f074d5e73",
   "metadata": {},
   "outputs": [],
   "source": [
    "import pandas as pd\n",
    "import matplotlib.pyplot as plt\n",
    "import numpy as np\n",
    "import datetime\n",
    "import folium\n",
    "import json"
   ]
  },
  {
   "cell_type": "markdown",
   "id": "57c1f85e-ebe4-41ad-ba79-451415993a2a",
   "metadata": {},
   "source": [
    "Os arquivos do covid são divididos em 4 pelo site, sendo 2 arquivos referente aos dados do ano de 2020 e 2 para o ano de 2021, sendo todos no formato de csv tend ';' como separador.\n",
    "Então criamos uma tabela para cada arquivo e depois juntamos todas elas em uma mesma tabela."
   ]
  },
  {
   "cell_type": "markdown",
   "id": "9768327c-e6c2-46b2-bc94-8f21af607f26",
   "metadata": {},
   "source": [
    "**TABELAS COVID**"
   ]
  },
  {
   "cell_type": "code",
   "execution_count": 2,
   "id": "7a1b352f-d87a-408f-96a7-ebbdeb3d7c3b",
   "metadata": {},
   "outputs": [],
   "source": [
    "dir_dataset = \"/home/yan/Downloads/DataScience_TP/datasets/HIST_PAINEL_COVIDBR_2020_Parte1_05ago2021.csv\"\n",
    "tabela1 = pd.read_csv(dir_dataset, sep=\";\")\n",
    "\n",
    "dir_dataset = \"/home/yan/Downloads/DataScience_TP/datasets/HIST_PAINEL_COVIDBR_2020_Parte2_05ago2021.csv\"\n",
    "tabela2 = pd.read_csv(dir_dataset,sep=\";\")\n",
    "\n",
    "dir_dataset = \"/home/yan/Downloads/DataScience_TP/datasets/HIST_PAINEL_COVIDBR_2021_Parte1_05ago2021.csv\"\n",
    "tabela3 = pd.read_csv(dir_dataset,sep=\";\")\n",
    "\n",
    "dir_dataset = \"/home/yan/Downloads/DataScience_TP/datasets/HIST_PAINEL_COVIDBR_2021_Parte2_05ago2021.csv\"\n",
    "tabela4 = pd.read_csv(dir_dataset,sep=\";\")"
   ]
  },
  {
   "cell_type": "markdown",
   "id": "6978da9c-85a9-44c0-9c69-b1bd7ef32c64",
   "metadata": {},
   "source": [
    "**TABELAS VACINAS**"
   ]
  },
  {
   "cell_type": "markdown",
   "id": "d48048eb-e258-4fb4-9aa2-1d4efded1283",
   "metadata": {},
   "source": [
    "A tabela de Vacinas teve as alterações como citado anteriormente, além de poder baixar tabelas personalizadas no site, podendo baixar tabelas já filtradas por regiões, faixa de idade, doses ministradas, entre outras tabelas disponibilizadas.\n",
    "A tabela utilizada no trabalho, apenas contém a quantidade de Vacinas ministradas em cada data respectivamente."
   ]
  },
  {
   "cell_type": "code",
   "execution_count": 3,
   "id": "429b8eac-69bd-4ccd-9e68-0a4c1220e6e9",
   "metadata": {},
   "outputs": [],
   "source": [
    "dir_dataset = \"/home/yan/Downloads/DataScience_TP/datasets/vacinas_aplicadas.csv\"\n",
    "vacinados = pd.read_csv(dir_dataset,sep=\",\")"
   ]
  },
  {
   "cell_type": "markdown",
   "id": "06c78190-11e0-4aab-bfb9-8d62267246d9",
   "metadata": {},
   "source": [
    "**UNIR TABELAS**"
   ]
  },
  {
   "cell_type": "code",
   "execution_count": 4,
   "id": "b5387687-becb-4f43-a226-5d0b9829e0d4",
   "metadata": {},
   "outputs": [],
   "source": [
    "tabela_final = pd.merge(tabela1, tabela2, how = \"outer\")\n",
    "tabela_final = pd.merge(tabela_final, tabela3, how = \"outer\")\n",
    "tabela_final = pd.merge(tabela_final, tabela4, how = \"outer\")"
   ]
  },
  {
   "cell_type": "markdown",
   "id": "7446f620-410b-4126-a171-41e3651ec946",
   "metadata": {},
   "source": [
    "A tabela de Covid contém as seguintes informações:\n",
    "\n",
    ".Região\n",
    "\n",
    ".Estado\n",
    "\n",
    ".Municipio\n",
    "\n",
    ".Código UF\n",
    "\n",
    ".Código Municipio\n",
    "\n",
    ".Código da Região de Sáude\n",
    "\n",
    ".Nome da Região de Saúde\n",
    "\n",
    ".Data\n",
    "\n",
    ".SemanaEpi\n",
    "\n",
    ".População\n",
    "\n",
    ".Casos Acumulados\n",
    "\n",
    ".Casos Novos\n",
    "\n",
    ".Óbitos Acumulados\n",
    "\n",
    ".Óbitos Novos\n",
    "\n",
    ".Pessoas Recuperadas\n",
    "\n",
    ".Casos em Acompanhamento\n",
    "\n",
    ".Região de Interior/Metropolitana\n",
    "\n",
    "Porém apenas utilizamos as seguintes informações e retiramos as colunas restantes:\n",
    "\n",
    ".Região\n",
    "\n",
    ".Estado\n",
    "\n",
    ".Municipio\n",
    "\n",
    ".Data\n",
    "\n",
    ".População\n",
    "\n",
    ".Casos Novos\n",
    "\n",
    ".Óbitos novos"
   ]
  },
  {
   "cell_type": "code",
   "execution_count": 5,
   "id": "e51ed77a-1e9b-48f0-8d35-c5b752de03e1",
   "metadata": {},
   "outputs": [
    {
     "data": {
      "text/html": [
       "<div>\n",
       "<style scoped>\n",
       "    .dataframe tbody tr th:only-of-type {\n",
       "        vertical-align: middle;\n",
       "    }\n",
       "\n",
       "    .dataframe tbody tr th {\n",
       "        vertical-align: top;\n",
       "    }\n",
       "\n",
       "    .dataframe thead th {\n",
       "        text-align: right;\n",
       "    }\n",
       "</style>\n",
       "<table border=\"1\" class=\"dataframe\">\n",
       "  <thead>\n",
       "    <tr style=\"text-align: right;\">\n",
       "      <th></th>\n",
       "      <th>regiao</th>\n",
       "      <th>estado</th>\n",
       "      <th>municipio</th>\n",
       "      <th>coduf</th>\n",
       "      <th>codmun</th>\n",
       "      <th>codRegiaoSaude</th>\n",
       "      <th>nomeRegiaoSaude</th>\n",
       "      <th>data</th>\n",
       "      <th>semanaEpi</th>\n",
       "      <th>populacaoTCU2019</th>\n",
       "      <th>casosAcumulado</th>\n",
       "      <th>casosNovos</th>\n",
       "      <th>obitosAcumulado</th>\n",
       "      <th>obitosNovos</th>\n",
       "      <th>Recuperadosnovos</th>\n",
       "      <th>emAcompanhamentoNovos</th>\n",
       "      <th>interior/metropolitana</th>\n",
       "    </tr>\n",
       "  </thead>\n",
       "  <tbody>\n",
       "    <tr>\n",
       "      <th>0</th>\n",
       "      <td>Brasil</td>\n",
       "      <td>NaN</td>\n",
       "      <td>NaN</td>\n",
       "      <td>76</td>\n",
       "      <td>NaN</td>\n",
       "      <td>NaN</td>\n",
       "      <td>NaN</td>\n",
       "      <td>2020-02-25</td>\n",
       "      <td>9</td>\n",
       "      <td>210147125.0</td>\n",
       "      <td>0.0</td>\n",
       "      <td>0</td>\n",
       "      <td>0</td>\n",
       "      <td>0</td>\n",
       "      <td>NaN</td>\n",
       "      <td>NaN</td>\n",
       "      <td>NaN</td>\n",
       "    </tr>\n",
       "    <tr>\n",
       "      <th>1</th>\n",
       "      <td>Brasil</td>\n",
       "      <td>NaN</td>\n",
       "      <td>NaN</td>\n",
       "      <td>76</td>\n",
       "      <td>NaN</td>\n",
       "      <td>NaN</td>\n",
       "      <td>NaN</td>\n",
       "      <td>2020-02-26</td>\n",
       "      <td>9</td>\n",
       "      <td>210147125.0</td>\n",
       "      <td>1.0</td>\n",
       "      <td>1</td>\n",
       "      <td>0</td>\n",
       "      <td>0</td>\n",
       "      <td>NaN</td>\n",
       "      <td>NaN</td>\n",
       "      <td>NaN</td>\n",
       "    </tr>\n",
       "    <tr>\n",
       "      <th>2</th>\n",
       "      <td>Brasil</td>\n",
       "      <td>NaN</td>\n",
       "      <td>NaN</td>\n",
       "      <td>76</td>\n",
       "      <td>NaN</td>\n",
       "      <td>NaN</td>\n",
       "      <td>NaN</td>\n",
       "      <td>2020-02-27</td>\n",
       "      <td>9</td>\n",
       "      <td>210147125.0</td>\n",
       "      <td>1.0</td>\n",
       "      <td>0</td>\n",
       "      <td>0</td>\n",
       "      <td>0</td>\n",
       "      <td>NaN</td>\n",
       "      <td>NaN</td>\n",
       "      <td>NaN</td>\n",
       "    </tr>\n",
       "    <tr>\n",
       "      <th>3</th>\n",
       "      <td>Brasil</td>\n",
       "      <td>NaN</td>\n",
       "      <td>NaN</td>\n",
       "      <td>76</td>\n",
       "      <td>NaN</td>\n",
       "      <td>NaN</td>\n",
       "      <td>NaN</td>\n",
       "      <td>2020-02-28</td>\n",
       "      <td>9</td>\n",
       "      <td>210147125.0</td>\n",
       "      <td>1.0</td>\n",
       "      <td>0</td>\n",
       "      <td>0</td>\n",
       "      <td>0</td>\n",
       "      <td>NaN</td>\n",
       "      <td>NaN</td>\n",
       "      <td>NaN</td>\n",
       "    </tr>\n",
       "    <tr>\n",
       "      <th>4</th>\n",
       "      <td>Brasil</td>\n",
       "      <td>NaN</td>\n",
       "      <td>NaN</td>\n",
       "      <td>76</td>\n",
       "      <td>NaN</td>\n",
       "      <td>NaN</td>\n",
       "      <td>NaN</td>\n",
       "      <td>2020-02-29</td>\n",
       "      <td>9</td>\n",
       "      <td>210147125.0</td>\n",
       "      <td>2.0</td>\n",
       "      <td>1</td>\n",
       "      <td>0</td>\n",
       "      <td>0</td>\n",
       "      <td>NaN</td>\n",
       "      <td>NaN</td>\n",
       "      <td>NaN</td>\n",
       "    </tr>\n",
       "    <tr>\n",
       "      <th>...</th>\n",
       "      <td>...</td>\n",
       "      <td>...</td>\n",
       "      <td>...</td>\n",
       "      <td>...</td>\n",
       "      <td>...</td>\n",
       "      <td>...</td>\n",
       "      <td>...</td>\n",
       "      <td>...</td>\n",
       "      <td>...</td>\n",
       "      <td>...</td>\n",
       "      <td>...</td>\n",
       "      <td>...</td>\n",
       "      <td>...</td>\n",
       "      <td>...</td>\n",
       "      <td>...</td>\n",
       "      <td>...</td>\n",
       "      <td>...</td>\n",
       "    </tr>\n",
       "    <tr>\n",
       "      <th>2793506</th>\n",
       "      <td>Centro-Oeste</td>\n",
       "      <td>DF</td>\n",
       "      <td>Brasília</td>\n",
       "      <td>53</td>\n",
       "      <td>530010.0</td>\n",
       "      <td>53001.0</td>\n",
       "      <td>DISTRITO FEDERAL</td>\n",
       "      <td>2021-08-01</td>\n",
       "      <td>31</td>\n",
       "      <td>3015268.0</td>\n",
       "      <td>450865.0</td>\n",
       "      <td>699</td>\n",
       "      <td>9630</td>\n",
       "      <td>10</td>\n",
       "      <td>NaN</td>\n",
       "      <td>NaN</td>\n",
       "      <td>1.0</td>\n",
       "    </tr>\n",
       "    <tr>\n",
       "      <th>2793507</th>\n",
       "      <td>Centro-Oeste</td>\n",
       "      <td>DF</td>\n",
       "      <td>Brasília</td>\n",
       "      <td>53</td>\n",
       "      <td>530010.0</td>\n",
       "      <td>53001.0</td>\n",
       "      <td>DISTRITO FEDERAL</td>\n",
       "      <td>2021-08-02</td>\n",
       "      <td>31</td>\n",
       "      <td>3015268.0</td>\n",
       "      <td>451570.0</td>\n",
       "      <td>705</td>\n",
       "      <td>9644</td>\n",
       "      <td>14</td>\n",
       "      <td>NaN</td>\n",
       "      <td>NaN</td>\n",
       "      <td>1.0</td>\n",
       "    </tr>\n",
       "    <tr>\n",
       "      <th>2793508</th>\n",
       "      <td>Centro-Oeste</td>\n",
       "      <td>DF</td>\n",
       "      <td>Brasília</td>\n",
       "      <td>53</td>\n",
       "      <td>530010.0</td>\n",
       "      <td>53001.0</td>\n",
       "      <td>DISTRITO FEDERAL</td>\n",
       "      <td>2021-08-03</td>\n",
       "      <td>31</td>\n",
       "      <td>3015268.0</td>\n",
       "      <td>451894.0</td>\n",
       "      <td>324</td>\n",
       "      <td>9661</td>\n",
       "      <td>17</td>\n",
       "      <td>NaN</td>\n",
       "      <td>NaN</td>\n",
       "      <td>1.0</td>\n",
       "    </tr>\n",
       "    <tr>\n",
       "      <th>2793509</th>\n",
       "      <td>Centro-Oeste</td>\n",
       "      <td>DF</td>\n",
       "      <td>Brasília</td>\n",
       "      <td>53</td>\n",
       "      <td>530010.0</td>\n",
       "      <td>53001.0</td>\n",
       "      <td>DISTRITO FEDERAL</td>\n",
       "      <td>2021-08-04</td>\n",
       "      <td>31</td>\n",
       "      <td>3015268.0</td>\n",
       "      <td>452527.0</td>\n",
       "      <td>633</td>\n",
       "      <td>9677</td>\n",
       "      <td>16</td>\n",
       "      <td>NaN</td>\n",
       "      <td>NaN</td>\n",
       "      <td>1.0</td>\n",
       "    </tr>\n",
       "    <tr>\n",
       "      <th>2793510</th>\n",
       "      <td>Centro-Oeste</td>\n",
       "      <td>DF</td>\n",
       "      <td>Brasília</td>\n",
       "      <td>53</td>\n",
       "      <td>530010.0</td>\n",
       "      <td>53001.0</td>\n",
       "      <td>DISTRITO FEDERAL</td>\n",
       "      <td>2021-08-05</td>\n",
       "      <td>31</td>\n",
       "      <td>3015268.0</td>\n",
       "      <td>453192.0</td>\n",
       "      <td>665</td>\n",
       "      <td>9689</td>\n",
       "      <td>12</td>\n",
       "      <td>NaN</td>\n",
       "      <td>NaN</td>\n",
       "      <td>1.0</td>\n",
       "    </tr>\n",
       "  </tbody>\n",
       "</table>\n",
       "<p>2793511 rows × 17 columns</p>\n",
       "</div>"
      ],
      "text/plain": [
       "               regiao estado municipio  coduf    codmun  codRegiaoSaude  \\\n",
       "0              Brasil    NaN       NaN     76       NaN             NaN   \n",
       "1              Brasil    NaN       NaN     76       NaN             NaN   \n",
       "2              Brasil    NaN       NaN     76       NaN             NaN   \n",
       "3              Brasil    NaN       NaN     76       NaN             NaN   \n",
       "4              Brasil    NaN       NaN     76       NaN             NaN   \n",
       "...               ...    ...       ...    ...       ...             ...   \n",
       "2793506  Centro-Oeste     DF  Brasília     53  530010.0         53001.0   \n",
       "2793507  Centro-Oeste     DF  Brasília     53  530010.0         53001.0   \n",
       "2793508  Centro-Oeste     DF  Brasília     53  530010.0         53001.0   \n",
       "2793509  Centro-Oeste     DF  Brasília     53  530010.0         53001.0   \n",
       "2793510  Centro-Oeste     DF  Brasília     53  530010.0         53001.0   \n",
       "\n",
       "          nomeRegiaoSaude        data  semanaEpi  populacaoTCU2019  \\\n",
       "0                     NaN  2020-02-25          9       210147125.0   \n",
       "1                     NaN  2020-02-26          9       210147125.0   \n",
       "2                     NaN  2020-02-27          9       210147125.0   \n",
       "3                     NaN  2020-02-28          9       210147125.0   \n",
       "4                     NaN  2020-02-29          9       210147125.0   \n",
       "...                   ...         ...        ...               ...   \n",
       "2793506  DISTRITO FEDERAL  2021-08-01         31         3015268.0   \n",
       "2793507  DISTRITO FEDERAL  2021-08-02         31         3015268.0   \n",
       "2793508  DISTRITO FEDERAL  2021-08-03         31         3015268.0   \n",
       "2793509  DISTRITO FEDERAL  2021-08-04         31         3015268.0   \n",
       "2793510  DISTRITO FEDERAL  2021-08-05         31         3015268.0   \n",
       "\n",
       "         casosAcumulado  casosNovos  obitosAcumulado  obitosNovos  \\\n",
       "0                   0.0           0                0            0   \n",
       "1                   1.0           1                0            0   \n",
       "2                   1.0           0                0            0   \n",
       "3                   1.0           0                0            0   \n",
       "4                   2.0           1                0            0   \n",
       "...                 ...         ...              ...          ...   \n",
       "2793506        450865.0         699             9630           10   \n",
       "2793507        451570.0         705             9644           14   \n",
       "2793508        451894.0         324             9661           17   \n",
       "2793509        452527.0         633             9677           16   \n",
       "2793510        453192.0         665             9689           12   \n",
       "\n",
       "         Recuperadosnovos  emAcompanhamentoNovos  interior/metropolitana  \n",
       "0                     NaN                    NaN                     NaN  \n",
       "1                     NaN                    NaN                     NaN  \n",
       "2                     NaN                    NaN                     NaN  \n",
       "3                     NaN                    NaN                     NaN  \n",
       "4                     NaN                    NaN                     NaN  \n",
       "...                   ...                    ...                     ...  \n",
       "2793506               NaN                    NaN                     1.0  \n",
       "2793507               NaN                    NaN                     1.0  \n",
       "2793508               NaN                    NaN                     1.0  \n",
       "2793509               NaN                    NaN                     1.0  \n",
       "2793510               NaN                    NaN                     1.0  \n",
       "\n",
       "[2793511 rows x 17 columns]"
      ]
     },
     "execution_count": 5,
     "metadata": {},
     "output_type": "execute_result"
    }
   ],
   "source": [
    "tabela_final"
   ]
  },
  {
   "cell_type": "code",
   "execution_count": 6,
   "id": "33b847e4-9bf7-466d-98a6-e8182bf6697a",
   "metadata": {},
   "outputs": [],
   "source": [
    "tabela_final = tabela_final.drop(columns=['coduf','codmun','codRegiaoSaude','nomeRegiaoSaude','semanaEpi','casosAcumulado','obitosAcumulado','emAcompanhamentoNovos','interior/metropolitana','Recuperadosnovos'])"
   ]
  },
  {
   "cell_type": "code",
   "execution_count": 7,
   "id": "06ed8327-23e9-4a97-91ae-31ef3a97d870",
   "metadata": {},
   "outputs": [
    {
     "data": {
      "text/html": [
       "<div>\n",
       "<style scoped>\n",
       "    .dataframe tbody tr th:only-of-type {\n",
       "        vertical-align: middle;\n",
       "    }\n",
       "\n",
       "    .dataframe tbody tr th {\n",
       "        vertical-align: top;\n",
       "    }\n",
       "\n",
       "    .dataframe thead th {\n",
       "        text-align: right;\n",
       "    }\n",
       "</style>\n",
       "<table border=\"1\" class=\"dataframe\">\n",
       "  <thead>\n",
       "    <tr style=\"text-align: right;\">\n",
       "      <th></th>\n",
       "      <th>regiao</th>\n",
       "      <th>estado</th>\n",
       "      <th>municipio</th>\n",
       "      <th>data</th>\n",
       "      <th>populacaoTCU2019</th>\n",
       "      <th>casosNovos</th>\n",
       "      <th>obitosNovos</th>\n",
       "    </tr>\n",
       "  </thead>\n",
       "  <tbody>\n",
       "    <tr>\n",
       "      <th>0</th>\n",
       "      <td>Brasil</td>\n",
       "      <td>NaN</td>\n",
       "      <td>NaN</td>\n",
       "      <td>2020-02-25</td>\n",
       "      <td>210147125.0</td>\n",
       "      <td>0</td>\n",
       "      <td>0</td>\n",
       "    </tr>\n",
       "    <tr>\n",
       "      <th>1</th>\n",
       "      <td>Brasil</td>\n",
       "      <td>NaN</td>\n",
       "      <td>NaN</td>\n",
       "      <td>2020-02-26</td>\n",
       "      <td>210147125.0</td>\n",
       "      <td>1</td>\n",
       "      <td>0</td>\n",
       "    </tr>\n",
       "    <tr>\n",
       "      <th>2</th>\n",
       "      <td>Brasil</td>\n",
       "      <td>NaN</td>\n",
       "      <td>NaN</td>\n",
       "      <td>2020-02-27</td>\n",
       "      <td>210147125.0</td>\n",
       "      <td>0</td>\n",
       "      <td>0</td>\n",
       "    </tr>\n",
       "    <tr>\n",
       "      <th>3</th>\n",
       "      <td>Brasil</td>\n",
       "      <td>NaN</td>\n",
       "      <td>NaN</td>\n",
       "      <td>2020-02-28</td>\n",
       "      <td>210147125.0</td>\n",
       "      <td>0</td>\n",
       "      <td>0</td>\n",
       "    </tr>\n",
       "    <tr>\n",
       "      <th>4</th>\n",
       "      <td>Brasil</td>\n",
       "      <td>NaN</td>\n",
       "      <td>NaN</td>\n",
       "      <td>2020-02-29</td>\n",
       "      <td>210147125.0</td>\n",
       "      <td>1</td>\n",
       "      <td>0</td>\n",
       "    </tr>\n",
       "    <tr>\n",
       "      <th>...</th>\n",
       "      <td>...</td>\n",
       "      <td>...</td>\n",
       "      <td>...</td>\n",
       "      <td>...</td>\n",
       "      <td>...</td>\n",
       "      <td>...</td>\n",
       "      <td>...</td>\n",
       "    </tr>\n",
       "    <tr>\n",
       "      <th>2793506</th>\n",
       "      <td>Centro-Oeste</td>\n",
       "      <td>DF</td>\n",
       "      <td>Brasília</td>\n",
       "      <td>2021-08-01</td>\n",
       "      <td>3015268.0</td>\n",
       "      <td>699</td>\n",
       "      <td>10</td>\n",
       "    </tr>\n",
       "    <tr>\n",
       "      <th>2793507</th>\n",
       "      <td>Centro-Oeste</td>\n",
       "      <td>DF</td>\n",
       "      <td>Brasília</td>\n",
       "      <td>2021-08-02</td>\n",
       "      <td>3015268.0</td>\n",
       "      <td>705</td>\n",
       "      <td>14</td>\n",
       "    </tr>\n",
       "    <tr>\n",
       "      <th>2793508</th>\n",
       "      <td>Centro-Oeste</td>\n",
       "      <td>DF</td>\n",
       "      <td>Brasília</td>\n",
       "      <td>2021-08-03</td>\n",
       "      <td>3015268.0</td>\n",
       "      <td>324</td>\n",
       "      <td>17</td>\n",
       "    </tr>\n",
       "    <tr>\n",
       "      <th>2793509</th>\n",
       "      <td>Centro-Oeste</td>\n",
       "      <td>DF</td>\n",
       "      <td>Brasília</td>\n",
       "      <td>2021-08-04</td>\n",
       "      <td>3015268.0</td>\n",
       "      <td>633</td>\n",
       "      <td>16</td>\n",
       "    </tr>\n",
       "    <tr>\n",
       "      <th>2793510</th>\n",
       "      <td>Centro-Oeste</td>\n",
       "      <td>DF</td>\n",
       "      <td>Brasília</td>\n",
       "      <td>2021-08-05</td>\n",
       "      <td>3015268.0</td>\n",
       "      <td>665</td>\n",
       "      <td>12</td>\n",
       "    </tr>\n",
       "  </tbody>\n",
       "</table>\n",
       "<p>2793511 rows × 7 columns</p>\n",
       "</div>"
      ],
      "text/plain": [
       "               regiao estado municipio        data  populacaoTCU2019  \\\n",
       "0              Brasil    NaN       NaN  2020-02-25       210147125.0   \n",
       "1              Brasil    NaN       NaN  2020-02-26       210147125.0   \n",
       "2              Brasil    NaN       NaN  2020-02-27       210147125.0   \n",
       "3              Brasil    NaN       NaN  2020-02-28       210147125.0   \n",
       "4              Brasil    NaN       NaN  2020-02-29       210147125.0   \n",
       "...               ...    ...       ...         ...               ...   \n",
       "2793506  Centro-Oeste     DF  Brasília  2021-08-01         3015268.0   \n",
       "2793507  Centro-Oeste     DF  Brasília  2021-08-02         3015268.0   \n",
       "2793508  Centro-Oeste     DF  Brasília  2021-08-03         3015268.0   \n",
       "2793509  Centro-Oeste     DF  Brasília  2021-08-04         3015268.0   \n",
       "2793510  Centro-Oeste     DF  Brasília  2021-08-05         3015268.0   \n",
       "\n",
       "         casosNovos  obitosNovos  \n",
       "0                 0            0  \n",
       "1                 1            0  \n",
       "2                 0            0  \n",
       "3                 0            0  \n",
       "4                 1            0  \n",
       "...             ...          ...  \n",
       "2793506         699           10  \n",
       "2793507         705           14  \n",
       "2793508         324           17  \n",
       "2793509         633           16  \n",
       "2793510         665           12  \n",
       "\n",
       "[2793511 rows x 7 columns]"
      ]
     },
     "execution_count": 7,
     "metadata": {},
     "output_type": "execute_result"
    }
   ],
   "source": [
    "tabela_final"
   ]
  },
  {
   "cell_type": "code",
   "execution_count": 8,
   "id": "2275f5b1-7a10-45bf-ad6c-728d42a8c6e9",
   "metadata": {},
   "outputs": [
    {
     "data": {
      "text/html": [
       "<div>\n",
       "<style scoped>\n",
       "    .dataframe tbody tr th:only-of-type {\n",
       "        vertical-align: middle;\n",
       "    }\n",
       "\n",
       "    .dataframe tbody tr th {\n",
       "        vertical-align: top;\n",
       "    }\n",
       "\n",
       "    .dataframe thead th {\n",
       "        text-align: right;\n",
       "    }\n",
       "</style>\n",
       "<table border=\"1\" class=\"dataframe\">\n",
       "  <thead>\n",
       "    <tr style=\"text-align: right;\">\n",
       "      <th></th>\n",
       "      <th>data</th>\n",
       "      <th>dosesAplicadas</th>\n",
       "    </tr>\n",
       "  </thead>\n",
       "  <tbody>\n",
       "    <tr>\n",
       "      <th>0</th>\n",
       "      <td>01/17/2021</td>\n",
       "      <td>323087</td>\n",
       "    </tr>\n",
       "    <tr>\n",
       "      <th>1</th>\n",
       "      <td>01/18/2021</td>\n",
       "      <td>2333</td>\n",
       "    </tr>\n",
       "    <tr>\n",
       "      <th>2</th>\n",
       "      <td>01/19/2021</td>\n",
       "      <td>61541</td>\n",
       "    </tr>\n",
       "    <tr>\n",
       "      <th>3</th>\n",
       "      <td>01/20/2021</td>\n",
       "      <td>349583</td>\n",
       "    </tr>\n",
       "    <tr>\n",
       "      <th>4</th>\n",
       "      <td>01/21/2021</td>\n",
       "      <td>390009</td>\n",
       "    </tr>\n",
       "    <tr>\n",
       "      <th>...</th>\n",
       "      <td>...</td>\n",
       "      <td>...</td>\n",
       "    </tr>\n",
       "    <tr>\n",
       "      <th>196</th>\n",
       "      <td>08/01/2021</td>\n",
       "      <td>107443</td>\n",
       "    </tr>\n",
       "    <tr>\n",
       "      <th>197</th>\n",
       "      <td>08/02/2021</td>\n",
       "      <td>1110043</td>\n",
       "    </tr>\n",
       "    <tr>\n",
       "      <th>198</th>\n",
       "      <td>08/03/2021</td>\n",
       "      <td>1208491</td>\n",
       "    </tr>\n",
       "    <tr>\n",
       "      <th>199</th>\n",
       "      <td>08/04/2021</td>\n",
       "      <td>1039805</td>\n",
       "    </tr>\n",
       "    <tr>\n",
       "      <th>200</th>\n",
       "      <td>08/05/2021</td>\n",
       "      <td>2</td>\n",
       "    </tr>\n",
       "  </tbody>\n",
       "</table>\n",
       "<p>201 rows × 2 columns</p>\n",
       "</div>"
      ],
      "text/plain": [
       "           data  dosesAplicadas\n",
       "0    01/17/2021          323087\n",
       "1    01/18/2021            2333\n",
       "2    01/19/2021           61541\n",
       "3    01/20/2021          349583\n",
       "4    01/21/2021          390009\n",
       "..          ...             ...\n",
       "196  08/01/2021          107443\n",
       "197  08/02/2021         1110043\n",
       "198  08/03/2021         1208491\n",
       "199  08/04/2021         1039805\n",
       "200  08/05/2021               2\n",
       "\n",
       "[201 rows x 2 columns]"
      ]
     },
     "execution_count": 8,
     "metadata": {},
     "output_type": "execute_result"
    }
   ],
   "source": [
    "vacinados"
   ]
  },
  {
   "cell_type": "markdown",
   "id": "cb72545a-99dd-408f-8ee6-ef5d66e60833",
   "metadata": {},
   "source": [
    "**PRE-PROCESSAMENTO**"
   ]
  },
  {
   "cell_type": "markdown",
   "id": "b1edb76d-d864-4a94-a90e-2479228820e7",
   "metadata": {},
   "source": [
    "RETIRADA DE VALORES NEGATIVOS"
   ]
  },
  {
   "cell_type": "code",
   "execution_count": 9,
   "id": "022655b0-af8d-4a64-9ec2-0b1c40cdbee6",
   "metadata": {},
   "outputs": [],
   "source": [
    "indexNames = tabela_final[ tabela_final['casosNovos'] < 0 ].index\n",
    "tabela_final.drop(indexNames , inplace=True)\n",
    "\n",
    "indexNames = tabela_final[ tabela_final['obitosNovos'] < 0 ].index\n",
    "tabela_final.drop(indexNames , inplace=True)"
   ]
  },
  {
   "cell_type": "markdown",
   "id": "f0c554bf-f471-4bdd-86de-d54efa7a21e2",
   "metadata": {},
   "source": [
    "RETIRADA DA REGIÃO 'BRASIL' PARA AVALIAR REGIÃO POR REGIÃO POR CONFLITO DE VALORES"
   ]
  },
  {
   "cell_type": "code",
   "execution_count": 10,
   "id": "a8a5bc09-4b4f-47c4-9607-88f562e0c390",
   "metadata": {},
   "outputs": [],
   "source": [
    "indexNames = tabela_final[ tabela_final['regiao'] == 'Brasil' ].index\n",
    "tabela_final.drop(indexNames , inplace=True)"
   ]
  },
  {
   "cell_type": "markdown",
   "id": "88a0aab0-e7dd-4b41-8c4e-8444ec7cfabf",
   "metadata": {},
   "source": [
    "CONVERTENDO O TIPO DE DADO DA COLUNA 'DATA' DE 'STRING/OBJECT' PARA 'DATA' DEFINIDO PELO PANDAS"
   ]
  },
  {
   "cell_type": "code",
   "execution_count": 11,
   "id": "a5a5b3e5-b18d-4ca6-a7cf-51b2626e73e1",
   "metadata": {},
   "outputs": [],
   "source": [
    "tabela_final['data'] = tabela_final['data'].astype('object')\n",
    "tabela_final['data'] = pd.to_datetime(tabela_final['data'])\n",
    "\n",
    "vacinados['data'] = vacinados['data'].astype('object')\n",
    "vacinados['data'] = pd.to_datetime(vacinados['data'])"
   ]
  },
  {
   "cell_type": "markdown",
   "id": "86ff0a02-c209-47f1-8dd4-11cac98407f2",
   "metadata": {},
   "source": [
    "RETIRADA DE LINHAS COM OS VALORES 'NaN' NA COLUNA DE 'MUNICIPIO' "
   ]
  },
  {
   "cell_type": "code",
   "execution_count": 12,
   "id": "91b1acfc-1dcc-4ce8-a80e-e857dfa061e7",
   "metadata": {},
   "outputs": [],
   "source": [
    "tabela_final = tabela_final[tabela_final['municipio'].notna()]"
   ]
  },
  {
   "cell_type": "markdown",
   "id": "3fe3e413-1533-457c-85d8-679094994aa5",
   "metadata": {},
   "source": [
    "SEPARANDO A BASE EM 2020 E 2021"
   ]
  },
  {
   "cell_type": "code",
   "execution_count": 13,
   "id": "bcb3863c-1c85-4a92-9c06-cb2eda699191",
   "metadata": {},
   "outputs": [],
   "source": [
    "date1 = pd.to_datetime(\"2021-01-01\")\n",
    "\n",
    "tabela_2020 = tabela_final['data'] < date1\n",
    "tabela_2020 = tabela_final[tabela_2020]\n",
    "\n",
    "tabela_2021 = tabela_final['data'] >= date1\n",
    "tabela_2021 = tabela_final[tabela_2021]"
   ]
  },
  {
   "cell_type": "markdown",
   "id": "7b0856f4-be4e-454b-b7d2-5970b31cbad3",
   "metadata": {},
   "source": [
    "SUBDIVIDINDO AS TABELAS EM CADA REGIÃO DO PAÍS"
   ]
  },
  {
   "cell_type": "code",
   "execution_count": 14,
   "id": "f13c001f-14e3-4423-b627-068fe5ecc9e7",
   "metadata": {},
   "outputs": [],
   "source": [
    "tabela_2020_Norte = tabela_2020['regiao'] == 'Norte'\n",
    "tabela_2020_Norte = tabela_2020[tabela_2020_Norte]\n",
    "\n",
    "tabela_2021_Norte = tabela_2021['regiao'] == 'Norte'\n",
    "tabela_2021_Norte = tabela_2021[tabela_2021_Norte]"
   ]
  },
  {
   "cell_type": "code",
   "execution_count": 15,
   "id": "64358368-ffba-46e1-91c3-94eadb12d7ec",
   "metadata": {},
   "outputs": [],
   "source": [
    "tabela_2020_Nordeste = tabela_2020['regiao'] == 'Nordeste'\n",
    "tabela_2020_Nordeste = tabela_2020[tabela_2020_Nordeste]\n",
    "\n",
    "tabela_2021_Nordeste = tabela_2021['regiao'] == 'Nordeste'\n",
    "tabela_2021_Nordeste = tabela_2021[tabela_2021_Nordeste]"
   ]
  },
  {
   "cell_type": "code",
   "execution_count": 16,
   "id": "7b2228c8-a89a-42d4-b40a-0ce14a00ab81",
   "metadata": {},
   "outputs": [],
   "source": [
    "tabela_2020_Sudeste = tabela_2020['regiao'] == 'Sudeste'\n",
    "tabela_2020_Sudeste = tabela_2020[tabela_2020_Sudeste]\n",
    "\n",
    "tabela_2021_Sudeste = tabela_2021['regiao'] == 'Sudeste'\n",
    "tabela_2021_Sudeste = tabela_2021[tabela_2021_Sudeste]"
   ]
  },
  {
   "cell_type": "code",
   "execution_count": 17,
   "id": "92b4d4ab-08e5-4cd5-ace8-e7f46c69f452",
   "metadata": {},
   "outputs": [],
   "source": [
    "tabela_2020_Sul = tabela_2020['regiao'] == 'Sul'\n",
    "tabela_2020_Sul = tabela_2020[tabela_2020_Sul]\n",
    "\n",
    "tabela_2021_Sul = tabela_2021['regiao'] == 'Sul'\n",
    "tabela_2021_Sul = tabela_2021[tabela_2021_Sul]"
   ]
  },
  {
   "cell_type": "code",
   "execution_count": 18,
   "id": "87fde685-1667-417c-bdaf-25bc96758b75",
   "metadata": {},
   "outputs": [],
   "source": [
    "tabela_2020_Centro_Oeste = tabela_2020['regiao'] == 'Centro-Oeste'\n",
    "tabela_2020_Centro_Oeste = tabela_2020[tabela_2020_Centro_Oeste]\n",
    "\n",
    "tabela_2021_Centro_Oeste = tabela_2021['regiao'] == 'Centro-Oeste'\n",
    "tabela_2021_Centro_Oeste = tabela_2021[tabela_2021_Centro_Oeste]"
   ]
  },
  {
   "cell_type": "markdown",
   "id": "7d6706e2-879a-4d75-af5b-094562b4b3a8",
   "metadata": {},
   "source": [
    "CRIA UMA TABELA COM TODOS OS ESTADOS DO PAÍS COM A QUANTIDADE DE CASOS NOVOS NO ANO E SUA TAXA"
   ]
  },
  {
   "cell_type": "code",
   "execution_count": 19,
   "id": "58d73c33-e75a-4be7-853b-23672cd7fb20",
   "metadata": {},
   "outputs": [],
   "source": [
    "tabela_estados_20 = tabela_2020.drop_duplicates(subset=['estado'])\n",
    "\n",
    "tabela_estados_20 = tabela_estados_20.reset_index()"
   ]
  },
  {
   "cell_type": "code",
   "execution_count": 20,
   "id": "ad21eecb-f4b9-43b7-9d73-94a8cca4a1b7",
   "metadata": {},
   "outputs": [],
   "source": [
    "n = 0\n",
    "string1 = tabela_estados_20['estado'][n]\n",
    "\n",
    "aux = tabela_2020['estado'] == string1 \n",
    "aux = tabela_2020[aux]\n",
    "aux2 = aux.groupby(aux['estado'])['casosNovos'].sum()\n",
    "aux2_1 = aux.groupby(aux['estado'])['obitosNovos'].sum()\n",
    "\n",
    "aux3 = aux.drop_duplicates(subset=['municipio'])\n",
    "aux3 = aux3.groupby(aux3[\"data\"].dt.year)['populacaoTCU2019'].sum()\n",
    "\n",
    "data = {'estado':[tabela_estados_20['estado'][n]],'casosNovos':[aux2.values[0]],'logCasosNovos':[np.log(aux2.values[0])],'obitosNovos':[aux2_1.values[0]],'logObitosNovos':[np.log(aux2_1.values[0])],'populacaoTCU2019':[aux3.values[0]],'taxa_casos':[(aux2.values[0]/aux3.values[0])*100]}\n",
    "tabela_estados_casos_20 = pd.DataFrame(data)\n",
    "\n",
    "n = 1\n",
    "while n < tabela_estados_20['estado'].size:\n",
    "    string1 = tabela_estados_20['estado'][n]\n",
    "    \n",
    "    aux3 = tabela_2020['estado'] == string1 \n",
    "    aux3 = tabela_2020[aux3]\n",
    "    aux4 = aux3.groupby(aux3[\"estado\"])['casosNovos'].sum()\n",
    "    aux4_1 = aux3.groupby(aux3[\"estado\"])['obitosNovos'].sum()\n",
    "    \n",
    "    aux5 = aux3.drop_duplicates(subset=['municipio'])\n",
    "    aux5 = aux5.groupby(aux5[\"data\"].dt.year)['populacaoTCU2019'].sum()\n",
    "    \n",
    "    data = {'estado':[tabela_estados_20['estado'][n]],'casosNovos':[aux4.values[0]],'logCasosNovos':[np.log(aux4.values[0])],'obitosNovos':[aux4_1.values[0]],'logObitosNovos':[np.log(aux4_1.values[0])],'populacaoTCU2019':[aux5.values[0]],'taxa_casos':[(aux4.values[0]/aux5.values[0])*100]}\n",
    "    aux6 = pd.DataFrame(data)\n",
    "    tabela_estados_casos_20 = pd.merge(tabela_estados_casos_20, aux6, how = \"outer\") \n",
    "    \n",
    "    n = n + 1"
   ]
  },
  {
   "cell_type": "code",
   "execution_count": 21,
   "id": "f1d5f5fe-8946-449a-a68f-188f0c516370",
   "metadata": {},
   "outputs": [],
   "source": [
    "tabela_estados_21 = tabela_2021.drop_duplicates(subset=['estado'])\n",
    "\n",
    "tabela_estados_21 = tabela_estados_21.reset_index()"
   ]
  },
  {
   "cell_type": "code",
   "execution_count": 22,
   "id": "5455181d-d7e3-4233-adfc-e091051dc5b9",
   "metadata": {},
   "outputs": [],
   "source": [
    "n = 0\n",
    "string1 = tabela_estados_21['estado'][n]\n",
    "\n",
    "aux = tabela_2021['estado'] == string1 \n",
    "aux = tabela_2021[aux]\n",
    "aux2 = aux.groupby(aux['estado'])['casosNovos'].sum()\n",
    "aux2_1 = aux.groupby(aux['estado'])['obitosNovos'].sum()\n",
    "\n",
    "aux3 = aux.drop_duplicates(subset=['municipio'])\n",
    "aux3 = aux3.groupby(aux3[\"data\"].dt.year)['populacaoTCU2019'].sum()\n",
    "\n",
    "data = {'estado':[tabela_estados_21['estado'][n]],'casosNovos':[aux2.values[0]],'logCasosNovos':[np.log(aux2.values[0])],'obitosNovos':[aux2_1.values[0]],'logObitosNovos':[np.log(aux2_1.values[0])],'populacaoTCU2019':[aux3.values[0]],'taxa_casos':[(aux2.values[0]/aux3.values[0])*100]}\n",
    "tabela_estados_casos_21 = pd.DataFrame(data)\n",
    "\n",
    "n = 1\n",
    "while n < tabela_estados_21['estado'].size:\n",
    "    string1 = tabela_estados_21['estado'][n]\n",
    "    \n",
    "    aux3 = tabela_2021['estado'] == string1 \n",
    "    aux3 = tabela_2021[aux3]\n",
    "    aux4 = aux3.groupby(aux3[\"estado\"])['casosNovos'].sum()\n",
    "    aux4_1 = aux3.groupby(aux3[\"estado\"])['obitosNovos'].sum()\n",
    "    \n",
    "    aux5 = aux3.drop_duplicates(subset=['municipio'])\n",
    "    aux5 = aux5.groupby(aux5[\"data\"].dt.year)['populacaoTCU2019'].sum()\n",
    "    \n",
    "    data = {'estado':[tabela_estados_21['estado'][n]],'casosNovos':[aux4.values[0]],'logCasosNovos':[np.log(aux4.values[0])],'obitosNovos':[aux4_1.values[0]],'logObitosNovos':[np.log(aux4_1.values[0])],'populacaoTCU2019':[aux5.values[0]],'taxa_casos':[(aux4.values[0]/aux5.values[0])*100]}\n",
    "    aux6 = pd.DataFrame(data)\n",
    "    tabela_estados_casos_21 = pd.merge(tabela_estados_casos_21, aux6, how = \"outer\") \n",
    "\n",
    "    n = n + 1"
   ]
  },
  {
   "cell_type": "code",
   "execution_count": 23,
   "id": "1a4dfb9f-b96d-416f-81cb-0b1611d934e3",
   "metadata": {},
   "outputs": [
    {
     "data": {
      "text/html": [
       "<div>\n",
       "<style scoped>\n",
       "    .dataframe tbody tr th:only-of-type {\n",
       "        vertical-align: middle;\n",
       "    }\n",
       "\n",
       "    .dataframe tbody tr th {\n",
       "        vertical-align: top;\n",
       "    }\n",
       "\n",
       "    .dataframe thead th {\n",
       "        text-align: right;\n",
       "    }\n",
       "</style>\n",
       "<table border=\"1\" class=\"dataframe\">\n",
       "  <thead>\n",
       "    <tr style=\"text-align: right;\">\n",
       "      <th></th>\n",
       "      <th>estado</th>\n",
       "      <th>casosNovos</th>\n",
       "      <th>logCasosNovos</th>\n",
       "      <th>obitosNovos</th>\n",
       "      <th>logObitosNovos</th>\n",
       "      <th>populacaoTCU2019</th>\n",
       "      <th>taxa_casos</th>\n",
       "    </tr>\n",
       "  </thead>\n",
       "  <tbody>\n",
       "    <tr>\n",
       "      <th>0</th>\n",
       "      <td>RO</td>\n",
       "      <td>96074</td>\n",
       "      <td>11.472874</td>\n",
       "      <td>1848</td>\n",
       "      <td>7.521859</td>\n",
       "      <td>1777225.0</td>\n",
       "      <td>5.405843</td>\n",
       "    </tr>\n",
       "    <tr>\n",
       "      <th>1</th>\n",
       "      <td>AC</td>\n",
       "      <td>41801</td>\n",
       "      <td>10.640676</td>\n",
       "      <td>798</td>\n",
       "      <td>6.682109</td>\n",
       "      <td>881935.0</td>\n",
       "      <td>4.739692</td>\n",
       "    </tr>\n",
       "    <tr>\n",
       "      <th>2</th>\n",
       "      <td>AM</td>\n",
       "      <td>201163</td>\n",
       "      <td>12.211871</td>\n",
       "      <td>5343</td>\n",
       "      <td>8.583543</td>\n",
       "      <td>4144597.0</td>\n",
       "      <td>4.853620</td>\n",
       "    </tr>\n",
       "    <tr>\n",
       "      <th>3</th>\n",
       "      <td>RR</td>\n",
       "      <td>66716</td>\n",
       "      <td>11.108200</td>\n",
       "      <td>795</td>\n",
       "      <td>6.678342</td>\n",
       "      <td>605761.0</td>\n",
       "      <td>11.013585</td>\n",
       "    </tr>\n",
       "    <tr>\n",
       "      <th>4</th>\n",
       "      <td>PA</td>\n",
       "      <td>292467</td>\n",
       "      <td>12.586107</td>\n",
       "      <td>7442</td>\n",
       "      <td>8.914895</td>\n",
       "      <td>8602865.0</td>\n",
       "      <td>3.399647</td>\n",
       "    </tr>\n",
       "    <tr>\n",
       "      <th>5</th>\n",
       "      <td>AP</td>\n",
       "      <td>68202</td>\n",
       "      <td>11.130229</td>\n",
       "      <td>925</td>\n",
       "      <td>6.829794</td>\n",
       "      <td>845731.0</td>\n",
       "      <td>8.064266</td>\n",
       "    </tr>\n",
       "    <tr>\n",
       "      <th>6</th>\n",
       "      <td>TO</td>\n",
       "      <td>90668</td>\n",
       "      <td>11.414960</td>\n",
       "      <td>1387</td>\n",
       "      <td>7.234898</td>\n",
       "      <td>1572866.0</td>\n",
       "      <td>5.764509</td>\n",
       "    </tr>\n",
       "    <tr>\n",
       "      <th>7</th>\n",
       "      <td>MA</td>\n",
       "      <td>201730</td>\n",
       "      <td>12.214685</td>\n",
       "      <td>4494</td>\n",
       "      <td>8.410498</td>\n",
       "      <td>7075181.0</td>\n",
       "      <td>2.851234</td>\n",
       "    </tr>\n",
       "    <tr>\n",
       "      <th>8</th>\n",
       "      <td>PI</td>\n",
       "      <td>143495</td>\n",
       "      <td>11.874055</td>\n",
       "      <td>2840</td>\n",
       "      <td>7.951559</td>\n",
       "      <td>3273227.0</td>\n",
       "      <td>4.383900</td>\n",
       "    </tr>\n",
       "    <tr>\n",
       "      <th>9</th>\n",
       "      <td>CE</td>\n",
       "      <td>326345</td>\n",
       "      <td>12.695710</td>\n",
       "      <td>10680</td>\n",
       "      <td>9.276128</td>\n",
       "      <td>9132078.0</td>\n",
       "      <td>3.573612</td>\n",
       "    </tr>\n",
       "    <tr>\n",
       "      <th>10</th>\n",
       "      <td>RN</td>\n",
       "      <td>120982</td>\n",
       "      <td>11.703397</td>\n",
       "      <td>3107</td>\n",
       "      <td>8.041413</td>\n",
       "      <td>3506853.0</td>\n",
       "      <td>3.449874</td>\n",
       "    </tr>\n",
       "    <tr>\n",
       "      <th>11</th>\n",
       "      <td>PB</td>\n",
       "      <td>167937</td>\n",
       "      <td>12.031344</td>\n",
       "      <td>3685</td>\n",
       "      <td>8.212026</td>\n",
       "      <td>4018127.0</td>\n",
       "      <td>4.179485</td>\n",
       "    </tr>\n",
       "    <tr>\n",
       "      <th>12</th>\n",
       "      <td>PE</td>\n",
       "      <td>222642</td>\n",
       "      <td>12.313320</td>\n",
       "      <td>9754</td>\n",
       "      <td>9.185433</td>\n",
       "      <td>9557071.0</td>\n",
       "      <td>2.329605</td>\n",
       "    </tr>\n",
       "    <tr>\n",
       "      <th>13</th>\n",
       "      <td>AL</td>\n",
       "      <td>105290</td>\n",
       "      <td>11.564474</td>\n",
       "      <td>2469</td>\n",
       "      <td>7.811568</td>\n",
       "      <td>3337357.0</td>\n",
       "      <td>3.154892</td>\n",
       "    </tr>\n",
       "    <tr>\n",
       "      <th>14</th>\n",
       "      <td>SE</td>\n",
       "      <td>112614</td>\n",
       "      <td>11.631721</td>\n",
       "      <td>2500</td>\n",
       "      <td>7.824046</td>\n",
       "      <td>2298696.0</td>\n",
       "      <td>4.899038</td>\n",
       "    </tr>\n",
       "    <tr>\n",
       "      <th>15</th>\n",
       "      <td>BA</td>\n",
       "      <td>485071</td>\n",
       "      <td>13.092051</td>\n",
       "      <td>9392</td>\n",
       "      <td>9.147614</td>\n",
       "      <td>14873064.0</td>\n",
       "      <td>3.261406</td>\n",
       "    </tr>\n",
       "    <tr>\n",
       "      <th>16</th>\n",
       "      <td>MG</td>\n",
       "      <td>537648</td>\n",
       "      <td>13.194959</td>\n",
       "      <td>12505</td>\n",
       "      <td>9.433884</td>\n",
       "      <td>21168791.0</td>\n",
       "      <td>2.539814</td>\n",
       "    </tr>\n",
       "    <tr>\n",
       "      <th>17</th>\n",
       "      <td>ES</td>\n",
       "      <td>240757</td>\n",
       "      <td>12.391543</td>\n",
       "      <td>5152</td>\n",
       "      <td>8.547140</td>\n",
       "      <td>4018650.0</td>\n",
       "      <td>5.990992</td>\n",
       "    </tr>\n",
       "    <tr>\n",
       "      <th>18</th>\n",
       "      <td>RJ</td>\n",
       "      <td>439304</td>\n",
       "      <td>12.992947</td>\n",
       "      <td>25838</td>\n",
       "      <td>10.159602</td>\n",
       "      <td>17264943.0</td>\n",
       "      <td>2.544486</td>\n",
       "    </tr>\n",
       "    <tr>\n",
       "      <th>19</th>\n",
       "      <td>SP</td>\n",
       "      <td>1452662</td>\n",
       "      <td>14.188908</td>\n",
       "      <td>47228</td>\n",
       "      <td>10.762742</td>\n",
       "      <td>45919049.0</td>\n",
       "      <td>3.163528</td>\n",
       "    </tr>\n",
       "    <tr>\n",
       "      <th>20</th>\n",
       "      <td>PR</td>\n",
       "      <td>411912</td>\n",
       "      <td>12.928565</td>\n",
       "      <td>7989</td>\n",
       "      <td>8.985821</td>\n",
       "      <td>11433957.0</td>\n",
       "      <td>3.602532</td>\n",
       "    </tr>\n",
       "    <tr>\n",
       "      <th>21</th>\n",
       "      <td>SC</td>\n",
       "      <td>474791</td>\n",
       "      <td>13.070630</td>\n",
       "      <td>5409</td>\n",
       "      <td>8.595820</td>\n",
       "      <td>7164788.0</td>\n",
       "      <td>6.626728</td>\n",
       "    </tr>\n",
       "    <tr>\n",
       "      <th>22</th>\n",
       "      <td>RS</td>\n",
       "      <td>451074</td>\n",
       "      <td>13.019387</td>\n",
       "      <td>8797</td>\n",
       "      <td>9.082166</td>\n",
       "      <td>11377239.0</td>\n",
       "      <td>3.964705</td>\n",
       "    </tr>\n",
       "    <tr>\n",
       "      <th>23</th>\n",
       "      <td>MS</td>\n",
       "      <td>134568</td>\n",
       "      <td>11.809825</td>\n",
       "      <td>2306</td>\n",
       "      <td>7.743270</td>\n",
       "      <td>2778986.0</td>\n",
       "      <td>4.842342</td>\n",
       "    </tr>\n",
       "    <tr>\n",
       "      <th>24</th>\n",
       "      <td>MT</td>\n",
       "      <td>181194</td>\n",
       "      <td>12.107324</td>\n",
       "      <td>5469</td>\n",
       "      <td>8.606851</td>\n",
       "      <td>3484466.0</td>\n",
       "      <td>5.200051</td>\n",
       "    </tr>\n",
       "    <tr>\n",
       "      <th>25</th>\n",
       "      <td>GO</td>\n",
       "      <td>309284</td>\n",
       "      <td>12.642015</td>\n",
       "      <td>6851</td>\n",
       "      <td>8.832150</td>\n",
       "      <td>7018354.0</td>\n",
       "      <td>4.406788</td>\n",
       "    </tr>\n",
       "    <tr>\n",
       "      <th>26</th>\n",
       "      <td>DF</td>\n",
       "      <td>251701</td>\n",
       "      <td>12.435997</td>\n",
       "      <td>4259</td>\n",
       "      <td>8.356790</td>\n",
       "      <td>3015268.0</td>\n",
       "      <td>8.347550</td>\n",
       "    </tr>\n",
       "  </tbody>\n",
       "</table>\n",
       "</div>"
      ],
      "text/plain": [
       "   estado  casosNovos  logCasosNovos  obitosNovos  logObitosNovos  \\\n",
       "0      RO       96074      11.472874         1848        7.521859   \n",
       "1      AC       41801      10.640676          798        6.682109   \n",
       "2      AM      201163      12.211871         5343        8.583543   \n",
       "3      RR       66716      11.108200          795        6.678342   \n",
       "4      PA      292467      12.586107         7442        8.914895   \n",
       "5      AP       68202      11.130229          925        6.829794   \n",
       "6      TO       90668      11.414960         1387        7.234898   \n",
       "7      MA      201730      12.214685         4494        8.410498   \n",
       "8      PI      143495      11.874055         2840        7.951559   \n",
       "9      CE      326345      12.695710        10680        9.276128   \n",
       "10     RN      120982      11.703397         3107        8.041413   \n",
       "11     PB      167937      12.031344         3685        8.212026   \n",
       "12     PE      222642      12.313320         9754        9.185433   \n",
       "13     AL      105290      11.564474         2469        7.811568   \n",
       "14     SE      112614      11.631721         2500        7.824046   \n",
       "15     BA      485071      13.092051         9392        9.147614   \n",
       "16     MG      537648      13.194959        12505        9.433884   \n",
       "17     ES      240757      12.391543         5152        8.547140   \n",
       "18     RJ      439304      12.992947        25838       10.159602   \n",
       "19     SP     1452662      14.188908        47228       10.762742   \n",
       "20     PR      411912      12.928565         7989        8.985821   \n",
       "21     SC      474791      13.070630         5409        8.595820   \n",
       "22     RS      451074      13.019387         8797        9.082166   \n",
       "23     MS      134568      11.809825         2306        7.743270   \n",
       "24     MT      181194      12.107324         5469        8.606851   \n",
       "25     GO      309284      12.642015         6851        8.832150   \n",
       "26     DF      251701      12.435997         4259        8.356790   \n",
       "\n",
       "    populacaoTCU2019  taxa_casos  \n",
       "0          1777225.0    5.405843  \n",
       "1           881935.0    4.739692  \n",
       "2          4144597.0    4.853620  \n",
       "3           605761.0   11.013585  \n",
       "4          8602865.0    3.399647  \n",
       "5           845731.0    8.064266  \n",
       "6          1572866.0    5.764509  \n",
       "7          7075181.0    2.851234  \n",
       "8          3273227.0    4.383900  \n",
       "9          9132078.0    3.573612  \n",
       "10         3506853.0    3.449874  \n",
       "11         4018127.0    4.179485  \n",
       "12         9557071.0    2.329605  \n",
       "13         3337357.0    3.154892  \n",
       "14         2298696.0    4.899038  \n",
       "15        14873064.0    3.261406  \n",
       "16        21168791.0    2.539814  \n",
       "17         4018650.0    5.990992  \n",
       "18        17264943.0    2.544486  \n",
       "19        45919049.0    3.163528  \n",
       "20        11433957.0    3.602532  \n",
       "21         7164788.0    6.626728  \n",
       "22        11377239.0    3.964705  \n",
       "23         2778986.0    4.842342  \n",
       "24         3484466.0    5.200051  \n",
       "25         7018354.0    4.406788  \n",
       "26         3015268.0    8.347550  "
      ]
     },
     "execution_count": 23,
     "metadata": {},
     "output_type": "execute_result"
    }
   ],
   "source": [
    "tabela_estados_casos_20"
   ]
  },
  {
   "cell_type": "code",
   "execution_count": 24,
   "id": "60c5d313-0b63-4d98-ab06-0d508320a2a5",
   "metadata": {},
   "outputs": [
    {
     "data": {
      "text/html": [
       "<div>\n",
       "<style scoped>\n",
       "    .dataframe tbody tr th:only-of-type {\n",
       "        vertical-align: middle;\n",
       "    }\n",
       "\n",
       "    .dataframe tbody tr th {\n",
       "        vertical-align: top;\n",
       "    }\n",
       "\n",
       "    .dataframe thead th {\n",
       "        text-align: right;\n",
       "    }\n",
       "</style>\n",
       "<table border=\"1\" class=\"dataframe\">\n",
       "  <thead>\n",
       "    <tr style=\"text-align: right;\">\n",
       "      <th></th>\n",
       "      <th>estado</th>\n",
       "      <th>casosNovos</th>\n",
       "      <th>logCasosNovos</th>\n",
       "      <th>obitosNovos</th>\n",
       "      <th>logObitosNovos</th>\n",
       "      <th>populacaoTCU2019</th>\n",
       "      <th>taxa_casos</th>\n",
       "    </tr>\n",
       "  </thead>\n",
       "  <tbody>\n",
       "    <tr>\n",
       "      <th>0</th>\n",
       "      <td>RO</td>\n",
       "      <td>164688</td>\n",
       "      <td>12.011808</td>\n",
       "      <td>4591</td>\n",
       "      <td>8.431853</td>\n",
       "      <td>1777225.0</td>\n",
       "      <td>9.266581</td>\n",
       "    </tr>\n",
       "    <tr>\n",
       "      <th>1</th>\n",
       "      <td>AC</td>\n",
       "      <td>46078</td>\n",
       "      <td>10.738091</td>\n",
       "      <td>979</td>\n",
       "      <td>6.886532</td>\n",
       "      <td>881935.0</td>\n",
       "      <td>5.224648</td>\n",
       "    </tr>\n",
       "    <tr>\n",
       "      <th>2</th>\n",
       "      <td>AM</td>\n",
       "      <td>218445</td>\n",
       "      <td>12.294290</td>\n",
       "      <td>8277</td>\n",
       "      <td>9.021236</td>\n",
       "      <td>4144597.0</td>\n",
       "      <td>5.270597</td>\n",
       "    </tr>\n",
       "    <tr>\n",
       "      <th>3</th>\n",
       "      <td>RR</td>\n",
       "      <td>50994</td>\n",
       "      <td>10.839463</td>\n",
       "      <td>1097</td>\n",
       "      <td>7.000334</td>\n",
       "      <td>605761.0</td>\n",
       "      <td>8.418172</td>\n",
       "    </tr>\n",
       "    <tr>\n",
       "      <th>4</th>\n",
       "      <td>PA</td>\n",
       "      <td>280500</td>\n",
       "      <td>12.544329</td>\n",
       "      <td>8965</td>\n",
       "      <td>9.101083</td>\n",
       "      <td>8602865.0</td>\n",
       "      <td>3.260542</td>\n",
       "    </tr>\n",
       "    <tr>\n",
       "      <th>5</th>\n",
       "      <td>AP</td>\n",
       "      <td>53446</td>\n",
       "      <td>10.886427</td>\n",
       "      <td>992</td>\n",
       "      <td>6.899723</td>\n",
       "      <td>845731.0</td>\n",
       "      <td>6.319503</td>\n",
       "    </tr>\n",
       "    <tr>\n",
       "      <th>6</th>\n",
       "      <td>TO</td>\n",
       "      <td>123872</td>\n",
       "      <td>11.727004</td>\n",
       "      <td>2724</td>\n",
       "      <td>7.909857</td>\n",
       "      <td>1572866.0</td>\n",
       "      <td>7.875560</td>\n",
       "    </tr>\n",
       "    <tr>\n",
       "      <th>7</th>\n",
       "      <td>MA</td>\n",
       "      <td>152092</td>\n",
       "      <td>11.932241</td>\n",
       "      <td>6122</td>\n",
       "      <td>8.719644</td>\n",
       "      <td>7075181.0</td>\n",
       "      <td>2.149655</td>\n",
       "    </tr>\n",
       "    <tr>\n",
       "      <th>8</th>\n",
       "      <td>PI</td>\n",
       "      <td>167870</td>\n",
       "      <td>12.030945</td>\n",
       "      <td>4061</td>\n",
       "      <td>8.309185</td>\n",
       "      <td>3273227.0</td>\n",
       "      <td>5.128578</td>\n",
       "    </tr>\n",
       "    <tr>\n",
       "      <th>9</th>\n",
       "      <td>CE</td>\n",
       "      <td>594105</td>\n",
       "      <td>13.294811</td>\n",
       "      <td>13485</td>\n",
       "      <td>9.509333</td>\n",
       "      <td>9132078.0</td>\n",
       "      <td>6.505693</td>\n",
       "    </tr>\n",
       "    <tr>\n",
       "      <th>10</th>\n",
       "      <td>RN</td>\n",
       "      <td>314910</td>\n",
       "      <td>12.660042</td>\n",
       "      <td>4191</td>\n",
       "      <td>8.340695</td>\n",
       "      <td>3506853.0</td>\n",
       "      <td>8.979846</td>\n",
       "    </tr>\n",
       "    <tr>\n",
       "      <th>11</th>\n",
       "      <td>PB</td>\n",
       "      <td>257691</td>\n",
       "      <td>12.459516</td>\n",
       "      <td>5383</td>\n",
       "      <td>8.591001</td>\n",
       "      <td>4018127.0</td>\n",
       "      <td>6.413212</td>\n",
       "    </tr>\n",
       "    <tr>\n",
       "      <th>12</th>\n",
       "      <td>PE</td>\n",
       "      <td>423729</td>\n",
       "      <td>12.956849</td>\n",
       "      <td>27259</td>\n",
       "      <td>10.213139</td>\n",
       "      <td>9557071.0</td>\n",
       "      <td>4.433670</td>\n",
       "    </tr>\n",
       "    <tr>\n",
       "      <th>13</th>\n",
       "      <td>AL</td>\n",
       "      <td>126859</td>\n",
       "      <td>11.750832</td>\n",
       "      <td>3368</td>\n",
       "      <td>8.122074</td>\n",
       "      <td>3337357.0</td>\n",
       "      <td>3.801182</td>\n",
       "    </tr>\n",
       "    <tr>\n",
       "      <th>14</th>\n",
       "      <td>SE</td>\n",
       "      <td>162479</td>\n",
       "      <td>11.998304</td>\n",
       "      <td>3460</td>\n",
       "      <td>8.149024</td>\n",
       "      <td>2298696.0</td>\n",
       "      <td>7.068312</td>\n",
       "    </tr>\n",
       "    <tr>\n",
       "      <th>15</th>\n",
       "      <td>BA</td>\n",
       "      <td>703380</td>\n",
       "      <td>13.463653</td>\n",
       "      <td>16512</td>\n",
       "      <td>9.711843</td>\n",
       "      <td>14873064.0</td>\n",
       "      <td>4.729221</td>\n",
       "    </tr>\n",
       "    <tr>\n",
       "      <th>16</th>\n",
       "      <td>MG</td>\n",
       "      <td>1456063</td>\n",
       "      <td>14.191247</td>\n",
       "      <td>39961</td>\n",
       "      <td>10.595659</td>\n",
       "      <td>21168791.0</td>\n",
       "      <td>6.878347</td>\n",
       "    </tr>\n",
       "    <tr>\n",
       "      <th>17</th>\n",
       "      <td>ES</td>\n",
       "      <td>291222</td>\n",
       "      <td>12.581841</td>\n",
       "      <td>6818</td>\n",
       "      <td>8.827321</td>\n",
       "      <td>4018650.0</td>\n",
       "      <td>7.246762</td>\n",
       "    </tr>\n",
       "    <tr>\n",
       "      <th>18</th>\n",
       "      <td>RJ</td>\n",
       "      <td>607584</td>\n",
       "      <td>13.317246</td>\n",
       "      <td>34281</td>\n",
       "      <td>10.442347</td>\n",
       "      <td>17264943.0</td>\n",
       "      <td>3.519178</td>\n",
       "    </tr>\n",
       "    <tr>\n",
       "      <th>19</th>\n",
       "      <td>SP</td>\n",
       "      <td>2625792</td>\n",
       "      <td>14.780893</td>\n",
       "      <td>93669</td>\n",
       "      <td>11.447523</td>\n",
       "      <td>45919049.0</td>\n",
       "      <td>5.718307</td>\n",
       "    </tr>\n",
       "    <tr>\n",
       "      <th>20</th>\n",
       "      <td>PR</td>\n",
       "      <td>1432837</td>\n",
       "      <td>14.175167</td>\n",
       "      <td>38308</td>\n",
       "      <td>10.553414</td>\n",
       "      <td>11433957.0</td>\n",
       "      <td>12.531418</td>\n",
       "    </tr>\n",
       "    <tr>\n",
       "      <th>21</th>\n",
       "      <td>SC</td>\n",
       "      <td>635675</td>\n",
       "      <td>13.362443</td>\n",
       "      <td>12917</td>\n",
       "      <td>9.466300</td>\n",
       "      <td>7164788.0</td>\n",
       "      <td>8.872209</td>\n",
       "    </tr>\n",
       "    <tr>\n",
       "      <th>22</th>\n",
       "      <td>RS</td>\n",
       "      <td>929063</td>\n",
       "      <td>13.741932</td>\n",
       "      <td>24301</td>\n",
       "      <td>10.098273</td>\n",
       "      <td>11377239.0</td>\n",
       "      <td>8.165979</td>\n",
       "    </tr>\n",
       "    <tr>\n",
       "      <th>23</th>\n",
       "      <td>MS</td>\n",
       "      <td>225267</td>\n",
       "      <td>12.325042</td>\n",
       "      <td>6696</td>\n",
       "      <td>8.809266</td>\n",
       "      <td>2778986.0</td>\n",
       "      <td>8.106086</td>\n",
       "    </tr>\n",
       "    <tr>\n",
       "      <th>24</th>\n",
       "      <td>MT</td>\n",
       "      <td>311812</td>\n",
       "      <td>12.650156</td>\n",
       "      <td>8329</td>\n",
       "      <td>9.027499</td>\n",
       "      <td>3484466.0</td>\n",
       "      <td>8.948631</td>\n",
       "    </tr>\n",
       "    <tr>\n",
       "      <th>25</th>\n",
       "      <td>GO</td>\n",
       "      <td>445875</td>\n",
       "      <td>13.007794</td>\n",
       "      <td>14351</td>\n",
       "      <td>9.571575</td>\n",
       "      <td>7018354.0</td>\n",
       "      <td>6.352985</td>\n",
       "    </tr>\n",
       "    <tr>\n",
       "      <th>26</th>\n",
       "      <td>DF</td>\n",
       "      <td>201491</td>\n",
       "      <td>12.213500</td>\n",
       "      <td>5430</td>\n",
       "      <td>8.599694</td>\n",
       "      <td>3015268.0</td>\n",
       "      <td>6.682358</td>\n",
       "    </tr>\n",
       "  </tbody>\n",
       "</table>\n",
       "</div>"
      ],
      "text/plain": [
       "   estado  casosNovos  logCasosNovos  obitosNovos  logObitosNovos  \\\n",
       "0      RO      164688      12.011808         4591        8.431853   \n",
       "1      AC       46078      10.738091          979        6.886532   \n",
       "2      AM      218445      12.294290         8277        9.021236   \n",
       "3      RR       50994      10.839463         1097        7.000334   \n",
       "4      PA      280500      12.544329         8965        9.101083   \n",
       "5      AP       53446      10.886427          992        6.899723   \n",
       "6      TO      123872      11.727004         2724        7.909857   \n",
       "7      MA      152092      11.932241         6122        8.719644   \n",
       "8      PI      167870      12.030945         4061        8.309185   \n",
       "9      CE      594105      13.294811        13485        9.509333   \n",
       "10     RN      314910      12.660042         4191        8.340695   \n",
       "11     PB      257691      12.459516         5383        8.591001   \n",
       "12     PE      423729      12.956849        27259       10.213139   \n",
       "13     AL      126859      11.750832         3368        8.122074   \n",
       "14     SE      162479      11.998304         3460        8.149024   \n",
       "15     BA      703380      13.463653        16512        9.711843   \n",
       "16     MG     1456063      14.191247        39961       10.595659   \n",
       "17     ES      291222      12.581841         6818        8.827321   \n",
       "18     RJ      607584      13.317246        34281       10.442347   \n",
       "19     SP     2625792      14.780893        93669       11.447523   \n",
       "20     PR     1432837      14.175167        38308       10.553414   \n",
       "21     SC      635675      13.362443        12917        9.466300   \n",
       "22     RS      929063      13.741932        24301       10.098273   \n",
       "23     MS      225267      12.325042         6696        8.809266   \n",
       "24     MT      311812      12.650156         8329        9.027499   \n",
       "25     GO      445875      13.007794        14351        9.571575   \n",
       "26     DF      201491      12.213500         5430        8.599694   \n",
       "\n",
       "    populacaoTCU2019  taxa_casos  \n",
       "0          1777225.0    9.266581  \n",
       "1           881935.0    5.224648  \n",
       "2          4144597.0    5.270597  \n",
       "3           605761.0    8.418172  \n",
       "4          8602865.0    3.260542  \n",
       "5           845731.0    6.319503  \n",
       "6          1572866.0    7.875560  \n",
       "7          7075181.0    2.149655  \n",
       "8          3273227.0    5.128578  \n",
       "9          9132078.0    6.505693  \n",
       "10         3506853.0    8.979846  \n",
       "11         4018127.0    6.413212  \n",
       "12         9557071.0    4.433670  \n",
       "13         3337357.0    3.801182  \n",
       "14         2298696.0    7.068312  \n",
       "15        14873064.0    4.729221  \n",
       "16        21168791.0    6.878347  \n",
       "17         4018650.0    7.246762  \n",
       "18        17264943.0    3.519178  \n",
       "19        45919049.0    5.718307  \n",
       "20        11433957.0   12.531418  \n",
       "21         7164788.0    8.872209  \n",
       "22        11377239.0    8.165979  \n",
       "23         2778986.0    8.106086  \n",
       "24         3484466.0    8.948631  \n",
       "25         7018354.0    6.352985  \n",
       "26         3015268.0    6.682358  "
      ]
     },
     "execution_count": 24,
     "metadata": {},
     "output_type": "execute_result"
    }
   ],
   "source": [
    "tabela_estados_casos_21"
   ]
  },
  {
   "cell_type": "markdown",
   "id": "68fd8712-b6aa-402a-aadc-e8f42ad99bfe",
   "metadata": {},
   "source": [
    "AGRUPA NO ANO DE 2020 A QUANTIDADE DE CASOS NOVOS DE CADA REGIÃO DO PAÍS"
   ]
  },
  {
   "cell_type": "code",
   "execution_count": 25,
   "id": "5c67e088-d931-4bbb-8828-90da993c6971",
   "metadata": {},
   "outputs": [],
   "source": [
    "agrupamento20_Norte = tabela_2020_Norte.groupby(tabela_2020_Norte[\"data\"].dt.year)['casosNovos'].sum()\n",
    "agrupamento20_Nordeste = tabela_2020_Nordeste.groupby(tabela_2020_Nordeste[\"data\"].dt.year)['casosNovos'].sum()\n",
    "agrupamento20_Sudeste = tabela_2020_Sudeste.groupby(tabela_2020_Sudeste[\"data\"].dt.year)['casosNovos'].sum()\n",
    "agrupamento20_Sul = tabela_2020_Sul.groupby(tabela_2020_Sul[\"data\"].dt.year)['casosNovos'].sum()\n",
    "agrupamento20_Centro_Oeste = tabela_2020_Centro_Oeste.groupby(tabela_2020_Centro_Oeste[\"data\"].dt.year)['casosNovos'].sum()"
   ]
  },
  {
   "cell_type": "markdown",
   "id": "8ff89a8e-2d23-4bac-9e7d-7337eaec364b",
   "metadata": {},
   "source": [
    "AGRUPA NO ANO DE 2021 A QUANTIDADE DE CASOS NOVOS DE CADA REGIÃO DO PAÍS"
   ]
  },
  {
   "cell_type": "code",
   "execution_count": 26,
   "id": "2be0ec60-76b9-47b7-a61e-e239a8dfe04e",
   "metadata": {},
   "outputs": [],
   "source": [
    "agrupamento21_Norte = tabela_2021_Norte.groupby(tabela_2021_Norte[\"data\"].dt.year)['casosNovos'].sum()\n",
    "agrupamento21_Nordeste = tabela_2021_Nordeste.groupby(tabela_2021_Nordeste[\"data\"].dt.year)['casosNovos'].sum()\n",
    "agrupamento21_Sudeste = tabela_2021_Sudeste.groupby(tabela_2021_Sudeste[\"data\"].dt.year)['casosNovos'].sum()\n",
    "agrupamento21_Sul = tabela_2021_Sul.groupby(tabela_2021_Sul[\"data\"].dt.year)['casosNovos'].sum()\n",
    "agrupamento21_Centro_Oeste = tabela_2021_Centro_Oeste.groupby(tabela_2021_Centro_Oeste[\"data\"].dt.year)['casosNovos'].sum()"
   ]
  },
  {
   "cell_type": "markdown",
   "id": "d1816830-d611-4ac5-97d5-f2328ecaf10c",
   "metadata": {},
   "source": [
    "FILTRANDO O VALOR DA POPULAÇÃO RESPECTIVAMENTE DE CADA REGIÃO"
   ]
  },
  {
   "cell_type": "code",
   "execution_count": 27,
   "id": "dceab166-c174-4d5c-92cd-b891bece4313",
   "metadata": {},
   "outputs": [],
   "source": [
    "tabela_aux_NT = tabela_2021_Norte\n",
    "tabela_aux_ND = tabela_2021_Nordeste\n",
    "tabela_aux_SD = tabela_2021_Sudeste\n",
    "tabela_aux_S = tabela_2021_Sul\n",
    "tabela_aux_CO = tabela_2021_Centro_Oeste"
   ]
  },
  {
   "cell_type": "code",
   "execution_count": 28,
   "id": "d47fa30c-c274-4448-bcc5-f12b8b1f669c",
   "metadata": {},
   "outputs": [],
   "source": [
    "tabela_aux_NT = tabela_aux_NT.drop_duplicates(subset=['municipio'])\n",
    "tabela_aux_ND = tabela_aux_ND.drop_duplicates(subset=['municipio'])\n",
    "tabela_aux_SD = tabela_aux_SD.drop_duplicates(subset=['municipio'])\n",
    "tabela_aux_S = tabela_aux_S.drop_duplicates(subset=['municipio'])\n",
    "tabela_aux_CO = tabela_aux_CO.drop_duplicates(subset=['municipio'])"
   ]
  },
  {
   "cell_type": "code",
   "execution_count": 29,
   "id": "874e0957-13b3-4f0c-80f0-4700adf6ffc1",
   "metadata": {},
   "outputs": [],
   "source": [
    "pop_NT = tabela_aux_NT.groupby(tabela_aux_NT[\"data\"].dt.year)['populacaoTCU2019'].sum()\n",
    "pop_ND = tabela_aux_ND.groupby(tabela_aux_ND[\"data\"].dt.year)['populacaoTCU2019'].sum()\n",
    "pop_SD = tabela_aux_SD.groupby(tabela_aux_SD[\"data\"].dt.year)['populacaoTCU2019'].sum()\n",
    "pop_S = tabela_aux_S.groupby(tabela_aux_S[\"data\"].dt.year)['populacaoTCU2019'].sum()\n",
    "pop_CO = tabela_aux_CO.groupby(tabela_aux_CO[\"data\"].dt.year)['populacaoTCU2019'].sum()"
   ]
  },
  {
   "cell_type": "markdown",
   "id": "ed6a677e-b010-44e0-9332-ebdb38a66de4",
   "metadata": {},
   "source": [
    "POPULAÇÃO DAS REGIÕES"
   ]
  },
  {
   "cell_type": "code",
   "execution_count": 30,
   "id": "a53a838d-f5da-471e-a9fc-41430467bc6a",
   "metadata": {},
   "outputs": [],
   "source": [
    "pop_R = pd.Series([pop_NT.values[0],pop_ND.values[0],pop_SD.values[0],pop_S.values[0],pop_CO.values[0]])"
   ]
  },
  {
   "cell_type": "markdown",
   "id": "1325c431-b69f-4948-9cf2-eb2470fc094f",
   "metadata": {},
   "source": [
    "POPULAÇÃO DO BRASIL"
   ]
  },
  {
   "cell_type": "code",
   "execution_count": 31,
   "id": "c2ec52da-5735-42c3-b3e0-7c752423432e",
   "metadata": {},
   "outputs": [],
   "source": [
    "pop_B = pop_NT.values[0] + pop_ND.values[0] + pop_SD.values[0] + pop_S.values[0] + pop_CO.values[0]"
   ]
  },
  {
   "cell_type": "markdown",
   "id": "50ac3917-7c47-4323-8380-41dbabc9966e",
   "metadata": {},
   "source": [
    "INDICE DE CASOS NOVOS"
   ]
  },
  {
   "cell_type": "code",
   "execution_count": 32,
   "id": "8302fe89-262a-4e86-91a0-6a4e00a5427b",
   "metadata": {},
   "outputs": [],
   "source": [
    "indice_casos_novos_20 = pd.Series([(agrupamento20_Norte.values[0]/pop_NT.values[0])*100,(agrupamento20_Nordeste.values[0]/pop_ND.values[0])*100,(agrupamento20_Sudeste.values[0]/pop_SD.values[0])*100,(agrupamento20_Sul.values[0]/pop_S.values[0])*100,(agrupamento20_Centro_Oeste.values[0]/pop_CO.values[0])*100])\n",
    "\n",
    "indice_casos_novos_21 = pd.Series([(agrupamento21_Norte.values[0]/pop_NT.values[0])*100,(agrupamento21_Nordeste.values[0]/pop_ND.values[0])*100,(agrupamento21_Sudeste.values[0]/pop_SD.values[0])*100,(agrupamento21_Sul.values[0]/pop_S.values[0])*100,(agrupamento21_Centro_Oeste.values[0]/pop_CO.values[0])*100])"
   ]
  },
  {
   "cell_type": "markdown",
   "id": "d93aa0cd-5d9b-4602-9bb8-75d130d025dc",
   "metadata": {},
   "source": [
    "AGRUPAMENTO PARA UTILIZAÇÃO DOS GRAFICOS"
   ]
  },
  {
   "cell_type": "code",
   "execution_count": 33,
   "id": "0f69d8bd-97e0-48cd-86ae-88f5c9480e04",
   "metadata": {},
   "outputs": [],
   "source": [
    "agrupamentoCasosNovos2020 = tabela_2020.groupby(tabela_2020[\"data\"].dt.month)['casosNovos'].sum()\n",
    "agrupamentoCasosNovos2021 = tabela_2021.groupby(tabela_2021[\"data\"].dt.month)['casosNovos'].sum()\n",
    "\n",
    "agrupamento_vacinado = vacinados.groupby(vacinados[\"data\"].dt.month)['dosesAplicadas'].sum()\n",
    "\n",
    "agrupamentoObitos2020 = tabela_2020.groupby(tabela_2020[\"data\"].dt.month)['obitosNovos'].sum()\n",
    "agrupamentoObitos2021 = tabela_2021.groupby(tabela_2021[\"data\"].dt.month)['obitosNovos'].sum()"
   ]
  },
  {
   "cell_type": "markdown",
   "id": "33c3c23d-f273-474d-9eeb-e5bae9be7fe7",
   "metadata": {},
   "source": [
    "CRIAÇÃO DE OBITOS ACUMULADOS"
   ]
  },
  {
   "cell_type": "code",
   "execution_count": 34,
   "id": "f6501c60-9e5b-4ecd-a15e-b2a0c81c5fac",
   "metadata": {},
   "outputs": [],
   "source": [
    "serie = {'mes':[agrupamentoObitos2020.index[0]],'obitosAcumulados':[agrupamentoObitos2020.values[0]]}\n",
    "agrupamentoObitosAcumulados2020 = pd.DataFrame(serie)\n",
    "i = 1\n",
    "while i < agrupamentoObitos2020.values.size:\n",
    "    serie = {'mes':[agrupamentoObitos2020.index[i]],'obitosAcumulados':[agrupamentoObitos2020.values[i] + agrupamentoObitosAcumulados2020['obitosAcumulados'][i-1]]}\n",
    "    dataAux = pd.DataFrame(serie)\n",
    "    agrupamentoObitosAcumulados2020 = pd.merge(agrupamentoObitosAcumulados2020, dataAux, how = \"outer\") \n",
    "    i = i + 1\n",
    "\n",
    "serie = {'mes':[agrupamentoObitos2021.index[0]],'obitosAcumulados':[agrupamentoObitosAcumulados2020['obitosAcumulados'][9]]}\n",
    "agrupamentoObitosAcumulados2021 = pd.DataFrame(serie)\n",
    "i = 1\n",
    "while i < agrupamentoObitos2021.values.size:\n",
    "    serie = {'mes':[agrupamentoObitos2021.index[i]],'obitosAcumulados':[agrupamentoObitos2021.values[i] + agrupamentoObitosAcumulados2021['obitosAcumulados'][i-1]]}\n",
    "    dataAux = pd.DataFrame(serie)\n",
    "    agrupamentoObitosAcumulados2021 = pd.merge(agrupamentoObitosAcumulados2021, dataAux, how = \"outer\") \n",
    "    i = i + 1"
   ]
  },
  {
   "cell_type": "markdown",
   "id": "bc106f1d-9369-43f5-a913-0e13c2c0c431",
   "metadata": {},
   "source": [
    "GERAÇÃO DO MAPA EPIDEMIOLOGICO"
   ]
  },
  {
   "cell_type": "code",
   "execution_count": 35,
   "id": "b5d614f1-3839-410a-a3c0-8a88ed47729d",
   "metadata": {},
   "outputs": [],
   "source": [
    "mapa = folium.Map(\n",
    "    width = \"100%\",\n",
    "    height = \"100%\",\n",
    "    location = [-15.77972,-47.92972],\n",
    "    zoom_start = 3\n",
    ")"
   ]
  },
  {
   "cell_type": "code",
   "execution_count": 36,
   "id": "c0bfd51a-d0dd-48d9-a759-ed5bbf7a970c",
   "metadata": {},
   "outputs": [],
   "source": [
    "br_estados_loc = json.load(open(\"/home/yan/Downloads/tp/datasets/br_estados.json\"))"
   ]
  },
  {
   "cell_type": "code",
   "execution_count": 37,
   "id": "41b5d0b5-3598-42a2-951e-31cad83e8df1",
   "metadata": {},
   "outputs": [
    {
     "data": {
      "text/plain": [
       "<folium.features.Choropleth at 0x7f9638a7e850>"
      ]
     },
     "execution_count": 37,
     "metadata": {},
     "output_type": "execute_result"
    }
   ],
   "source": [
    "folium.Choropleth(\n",
    "    geo_data = br_estados_loc,\n",
    "    name = \"CASOS_20\",\n",
    "    data = tabela_estados_casos_20,\n",
    "    columns = ['estado','casosNovos'],\n",
    "    key_on = 'feature.id',\n",
    "    fill_collor = \"YlOrRd\",\n",
    "    fill_opacity = 0.6,\n",
    "    line_color = 'white',\n",
    "    line_opacity = 0.8,\n",
    "    show = False,\n",
    "    legend_name = \"Casos de Covid no Brasil 2020\"\n",
    ").add_to(mapa)"
   ]
  },
  {
   "cell_type": "code",
   "execution_count": 38,
   "id": "2c68f3fd-ad76-43f5-b323-ab77fa42b0ba",
   "metadata": {},
   "outputs": [
    {
     "data": {
      "text/plain": [
       "<folium.features.Choropleth at 0x7f9629f1e3a0>"
      ]
     },
     "execution_count": 38,
     "metadata": {},
     "output_type": "execute_result"
    }
   ],
   "source": [
    "folium.Choropleth(\n",
    "    geo_data = br_estados_loc,\n",
    "    name = \"LOG_CASOS_20\",\n",
    "    data = tabela_estados_casos_20,\n",
    "    columns = ['estado','logCasosNovos'],\n",
    "    key_on = 'feature.id',\n",
    "    fill_collor = \"PuBu\",\n",
    "    fill_opacity = 0.6,\n",
    "    line_color = 'white',\n",
    "    line_opacity = 0.8,\n",
    "    show = False,\n",
    "    legend_name = \"Log de Casos de Covid no Brasil 2020\"\n",
    ").add_to(mapa)"
   ]
  },
  {
   "cell_type": "code",
   "execution_count": 39,
   "id": "207419f9-33a6-40b9-b247-cf6dc0db1a14",
   "metadata": {},
   "outputs": [
    {
     "data": {
      "text/plain": [
       "<folium.features.Choropleth at 0x7f9629f4f7c0>"
      ]
     },
     "execution_count": 39,
     "metadata": {},
     "output_type": "execute_result"
    }
   ],
   "source": [
    "folium.Choropleth(\n",
    "    geo_data = br_estados_loc,\n",
    "    name = \"LOG_OBITOS_20\",\n",
    "    data = tabela_estados_casos_20,\n",
    "    columns = ['estado','logObitosNovos'],\n",
    "    key_on = 'feature.id',\n",
    "    fill_collor = \"YlOrRd\",\n",
    "    fill_opacity = 0.6,\n",
    "    line_color = 'white',\n",
    "    line_opacity = 0.8,\n",
    "    show = False,\n",
    "    legend_name = \"Log de Obitos de Covid no Brasil 2020\"\n",
    ").add_to(mapa)"
   ]
  },
  {
   "cell_type": "code",
   "execution_count": 40,
   "id": "d44ce1e7-bcbb-43d2-ae6a-714f8745b200",
   "metadata": {},
   "outputs": [
    {
     "data": {
      "text/plain": [
       "<folium.features.Choropleth at 0x7f963e2dd040>"
      ]
     },
     "execution_count": 40,
     "metadata": {},
     "output_type": "execute_result"
    }
   ],
   "source": [
    "folium.Choropleth(\n",
    "    geo_data = br_estados_loc,\n",
    "    name = \"LOG_CASOS_21\",\n",
    "    data = tabela_estados_casos_21,\n",
    "    columns = ['estado','logCasosNovos'],\n",
    "    key_on = 'feature.id',\n",
    "    fill_collor = \"PuBu\",\n",
    "    fill_opacity = 0.6,\n",
    "    line_color = 'white',\n",
    "    line_opacity = 0.8,\n",
    "    show = False,\n",
    "    legend_name = \"Log de Casos de Covid no Brasil 2021\"\n",
    ").add_to(mapa)"
   ]
  },
  {
   "cell_type": "code",
   "execution_count": 41,
   "id": "6af77296-7731-4bc0-805b-1ac1051a1d9e",
   "metadata": {},
   "outputs": [
    {
     "data": {
      "text/plain": [
       "<folium.features.Choropleth at 0x7f9638b02be0>"
      ]
     },
     "execution_count": 41,
     "metadata": {},
     "output_type": "execute_result"
    }
   ],
   "source": [
    "folium.Choropleth(\n",
    "    geo_data = br_estados_loc,\n",
    "    name = \"LOG_OBITOS_21\",\n",
    "    data = tabela_estados_casos_21,\n",
    "    columns = ['estado','logObitosNovos'],\n",
    "    key_on = 'feature.id',\n",
    "    fill_collor = \"YlOrRd\",\n",
    "    fill_opacity = 0.6,\n",
    "    line_color = 'white',\n",
    "    line_opacity = 0.8,\n",
    "    show = False,\n",
    "    legend_name = \"Log de Obitos de Covid no Brasil 2021\"\n",
    ").add_to(mapa)"
   ]
  },
  {
   "cell_type": "code",
   "execution_count": 42,
   "id": "6371809f-8969-4df0-9bcd-060e4083b36a",
   "metadata": {},
   "outputs": [
    {
     "data": {
      "text/plain": [
       "<folium.map.LayerControl at 0x7f9638b022b0>"
      ]
     },
     "execution_count": 42,
     "metadata": {},
     "output_type": "execute_result"
    }
   ],
   "source": [
    "folium.LayerControl().add_to(mapa)"
   ]
  },
  {
   "cell_type": "code",
   "execution_count": 43,
   "id": "cdef1f67-d2ed-4e0b-8f70-c1ecbd3b68e3",
   "metadata": {},
   "outputs": [],
   "source": [
    "mapa.save('/home/yan/Downloads/DataScience_TP/mapa_epidemiologico/covid.html')"
   ]
  },
  {
   "cell_type": "markdown",
   "id": "7974886e-c22a-4374-ab61-1983ab2c0b28",
   "metadata": {},
   "source": [
    "**PERGUNTAS**"
   ]
  },
  {
   "cell_type": "markdown",
   "id": "f17a2665-7f75-4a8b-b493-f610f88f9a07",
   "metadata": {},
   "source": [
    "1) Desde o começo da pandemia, teve alguma época onde teve um decaimento significativo de casos confirmados no Brasil?"
   ]
  },
  {
   "cell_type": "code",
   "execution_count": 44,
   "id": "a6517e85-5b88-4251-843f-d60020aff7ce",
   "metadata": {},
   "outputs": [
    {
     "data": {
      "image/png": "[encoded data removed]",
      "text/plain": [
       "<Figure size 432x288 with 1 Axes>"
      ]
     },
     "metadata": {
      "needs_background": "light"
     },
     "output_type": "display_data"
    }
   ],
   "source": [
    "interval = np.arange(3,13,1)\n",
    "\n",
    "fig, ax = plt.subplots()\n",
    "ax.plot(agrupamentoCasosNovos2020.index, agrupamentoCasosNovos2020.values, label='Casos Confirmados')\n",
    "ax.set_xticks(interval)\n",
    "ax.set_xticks(interval, minor=True)\n",
    "ax.set(xlabel='Mês', ylabel='Pessoas', title='Covid em 2020')\n",
    "ax.legend()\n",
    "ax.grid()\n",
    "\n",
    "plt.show()"
   ]
  },
  {
   "cell_type": "markdown",
   "id": "9c48a1bf-b84b-45c1-9302-dfd01baa1022",
   "metadata": {},
   "source": [
    "No ano de 2020, tivemos um decaimento de **Novos Casos Confirmados** durante o período de Agosto até Novembro, que depois começa a ter uma crescida nos casos novamente bem significativa"
   ]
  },
  {
   "cell_type": "code",
   "execution_count": 45,
   "id": "6305ab3c-55ea-4c3b-b2f0-29860f5288a9",
   "metadata": {},
   "outputs": [
    {
     "data": {
      "image/png": "[encoded data removed]",
      "text/plain": [
       "<Figure size 432x288 with 1 Axes>"
      ]
     },
     "metadata": {
      "needs_background": "light"
     },
     "output_type": "display_data"
    }
   ],
   "source": [
    "fig, ax = plt.subplots()\n",
    "ax.plot(agrupamentoCasosNovos2021.index, agrupamentoCasosNovos2021.values, label='Novos Casos')\n",
    "\n",
    "ax.set(xlabel='Mês', ylabel='Pessoas', title='Covid em 2021')\n",
    "ax.legend()\n",
    "ax.grid()\n",
    "\n",
    "plt.show()"
   ]
  },
  {
   "cell_type": "code",
   "execution_count": 46,
   "id": "87ef55bc-a22f-4e24-b32d-b65284c300ea",
   "metadata": {},
   "outputs": [
    {
     "data": {
      "image/png": "[encoded data removed]",
      "text/plain": [
       "<Figure size 432x288 with 1 Axes>"
      ]
     },
     "metadata": {
      "needs_background": "light"
     },
     "output_type": "display_data"
    }
   ],
   "source": [
    "fig, ax = plt.subplots()\n",
    "ax.plot(agrupamentoCasosNovos2021.index, agrupamentoCasosNovos2021.values, label='Novos Casos')\n",
    "ax.plot(agrupamento_vacinado.index, agrupamento_vacinado.values, label='Vacinadas')\n",
    "\n",
    "ax.set(xlabel='Mês', ylabel='Pessoas', title='Covid em 2021')\n",
    "ax.legend()\n",
    "ax.grid()\n",
    "\n",
    "plt.show()"
   ]
  },
  {
   "cell_type": "markdown",
   "id": "ad00b26d-d713-48b7-bbfe-de3a190ef9cd",
   "metadata": {},
   "source": [
    "Já em 2021, podemos observar 3 quedas, porém só uma realmente é significativa, que é no mês de Junho para Julho, lembrando que de Julho para Agosto podemos desconsiderar, já que os dados coletados, tem o limite no dia 05 de Agosto, assim tendo poucos dias para ter um resultado realmente significativo de novos casos no mês.\n",
    "E olhando o gráfico de **Novos Casos Confirmados** em relação a **Quantidade de Vacinas Ministradas no Mês**, a quantidade de novos casos se mantém no linear, tendo todo mês uma mesma quantidade de casos novos, só no final onde temos um pico de pessoas sendo vacinadas que temos um decaimento significativo nos novos casos de contaminação."
   ]
  },
  {
   "cell_type": "markdown",
   "id": "3b07355b-ecf8-4422-8f19-b78a2aaa132f",
   "metadata": {},
   "source": [
    "2) Quais estados e regiões tiveram um maior índice de casos confirmados em relação ao seu total de habitantes?"
   ]
  },
  {
   "cell_type": "markdown",
   "id": "6a904974-cab6-48ad-af5f-f05d597b5f4f",
   "metadata": {},
   "source": [
    "INDICE DE CASOS NOVOS EM 2020"
   ]
  },
  {
   "cell_type": "markdown",
   "id": "28a3a2e4-f2ac-4241-8740-f4ced4ee619b",
   "metadata": {},
   "source": [
    "REGIAO:"
   ]
  },
  {
   "cell_type": "code",
   "execution_count": 47,
   "id": "affb6310-a870-4335-ba9e-2bcb021bbdf0",
   "metadata": {},
   "outputs": [
    {
     "name": "stdout",
     "output_type": "stream",
     "text": [
      "Centro-Oeste com o maior indice de novos casos em: \n",
      "5.381395389090489\n"
     ]
    }
   ],
   "source": [
    "indice_mar_2020 = 0\n",
    "\n",
    "if(indice_casos_novos_20.idxmax() == 0):\n",
    "    print('Norte com o maior indice de novos casos em: ')\n",
    "    print(indice_casos_novos_20.max())\n",
    "    indice_mar_2020 = 'Norte ' + str(indice_casos_novos_20.max())\n",
    "if(indice_casos_novos_20.idxmax() == 1):\n",
    "    print('Nordeste com o maior indice de novos casos em: ')\n",
    "    print(indice_casos_novos_20.max())\n",
    "    indice_mar_2020 = 'Nordeste ' + str(indice_casos_novos_20.max())\n",
    "if(indice_casos_novos_20.idxmax() == 2):\n",
    "    print('Sudeste com o maior indice de novos casos em: ')\n",
    "    print(indice_casos_novos_20.max())\n",
    "    indice_mar_2020 = 'Suldeste ' + str(indice_casos_novos_20.max())\n",
    "if(indice_casos_novos_20.idxmax() == 3):\n",
    "    print('Sul com o maior indice de novos casos em: ')\n",
    "    print(indice_casos_novos_20.max())\n",
    "    indice_mar_2020 = 'Sul ' + str(indice_casos_novos_20.max())\n",
    "if(indice_casos_novos_20.idxmax() == 4):\n",
    "    print('Centro-Oeste com o maior indice de novos casos em: ')\n",
    "    print(indice_casos_novos_20.max())\n",
    "    indice_mar_2020 = 'Centro-Oeste ' + str(indice_casos_novos_20.max())"
   ]
  },
  {
   "cell_type": "code",
   "execution_count": 48,
   "id": "092a1ec8-6e49-4327-8397-ae6a598e9c77",
   "metadata": {},
   "outputs": [
    {
     "data": {
      "text/plain": [
       "'RR'"
      ]
     },
     "execution_count": 48,
     "metadata": {},
     "output_type": "execute_result"
    }
   ],
   "source": [
    "tabela_estados_casos_20['estado'][tabela_estados_casos_20['taxa_casos'].idxmax()]"
   ]
  },
  {
   "cell_type": "code",
   "execution_count": 49,
   "id": "94ccc4d9-bda6-4c0b-b77c-f7ff8f6559d1",
   "metadata": {},
   "outputs": [
    {
     "data": {
      "text/plain": [
       "11.01358456552997"
      ]
     },
     "execution_count": 49,
     "metadata": {},
     "output_type": "execute_result"
    }
   ],
   "source": [
    "tabela_estados_casos_20['taxa_casos'][tabela_estados_casos_20['taxa_casos'].idxmax()]"
   ]
  },
  {
   "cell_type": "code",
   "execution_count": 50,
   "id": "147bd8bb-3c94-4376-85d4-f4177e80f239",
   "metadata": {},
   "outputs": [],
   "source": [
    "indice_mae_2020 = tabela_estados_casos_20['estado'][tabela_estados_casos_20['taxa_casos'].idxmax()] + ' ' +str(tabela_estados_casos_20['taxa_casos'][tabela_estados_casos_20['taxa_casos'].idxmax()])"
   ]
  },
  {
   "cell_type": "markdown",
   "id": "d425db90-ead7-4fbd-9bf7-b993c1b79c2a",
   "metadata": {},
   "source": [
    "INDICE DE CASOS NOVOS EM 2021"
   ]
  },
  {
   "cell_type": "markdown",
   "id": "31858300-a3d2-47f9-9d5a-3639c6416e28",
   "metadata": {},
   "source": [
    "REGIAO:"
   ]
  },
  {
   "cell_type": "code",
   "execution_count": 51,
   "id": "d9973194-dfe2-4435-a851-64090b3e3808",
   "metadata": {},
   "outputs": [
    {
     "name": "stdout",
     "output_type": "stream",
     "text": [
      "Sul com o maior indice de novos casos em: \n",
      "10.042400819828023\n"
     ]
    }
   ],
   "source": [
    "indice_mar_2021 = 0\n",
    "\n",
    "if(indice_casos_novos_21.idxmax() == 0):\n",
    "    print('Norte com o maior indice de novos casos em: ')\n",
    "    print(indice_casos_novos_21.max())\n",
    "    indice_mar_2021 = 'Norte ' + str(indice_casos_novos_21.max())\n",
    "if(indice_casos_novos_21.idxmax() == 1):\n",
    "    print('Nordeste com o maior indice de novos casos em: ')\n",
    "    print(indice_casos_novos_21.max())\n",
    "    indice_mar_2021 = 'Nordeste ' + str(indice_casos_novos_21.max())\n",
    "if(indice_casos_novos_21.idxmax() == 2):\n",
    "    print('Sudeste com o maior indice de novos casos em: ')\n",
    "    print(indice_casos_novos_21.max())\n",
    "    indice_mar_2021 = 'Sudeste ' + str(indice_casos_novos_21.max())\n",
    "if(indice_casos_novos_21.idxmax() == 3):\n",
    "    print('Sul com o maior indice de novos casos em: ')\n",
    "    print(indice_casos_novos_21.max())\n",
    "    indice_mar_2021 = 'Sul ' + str(indice_casos_novos_21.max())\n",
    "if(indice_casos_novos_21.idxmax() == 4):\n",
    "    print('Centro-Oeste com o maior indice de novos casos em: ')\n",
    "    print(indice_casos_novos_21.max())\n",
    "    indice_mar_2021 = 'Centro-Oeste ' + str(indice_casos_novos_21.max())"
   ]
  },
  {
   "cell_type": "markdown",
   "id": "150e5957-497a-465f-906e-7bfe86006aa7",
   "metadata": {},
   "source": [
    "ESTADO:"
   ]
  },
  {
   "cell_type": "code",
   "execution_count": 52,
   "id": "906e2cf8-3be4-4908-881d-738f469505fb",
   "metadata": {},
   "outputs": [
    {
     "data": {
      "text/plain": [
       "'PR'"
      ]
     },
     "execution_count": 52,
     "metadata": {},
     "output_type": "execute_result"
    }
   ],
   "source": [
    "tabela_estados_casos_21['estado'][tabela_estados_casos_21['taxa_casos'].idxmax()]"
   ]
  },
  {
   "cell_type": "code",
   "execution_count": 53,
   "id": "91950503-2687-4d42-821e-b9ae3294285d",
   "metadata": {},
   "outputs": [
    {
     "data": {
      "text/plain": [
       "12.531418475686065"
      ]
     },
     "execution_count": 53,
     "metadata": {},
     "output_type": "execute_result"
    }
   ],
   "source": [
    "tabela_estados_casos_21['taxa_casos'][tabela_estados_casos_21['taxa_casos'].idxmax()]"
   ]
  },
  {
   "cell_type": "code",
   "execution_count": 54,
   "id": "b3506e59-ddad-4b4f-918e-487a31ce7a7e",
   "metadata": {},
   "outputs": [],
   "source": [
    "indice_mae_2021 = tabela_estados_casos_21['estado'][tabela_estados_casos_21['taxa_casos'].idxmax()] + ' ' + str(tabela_estados_casos_21['taxa_casos'][tabela_estados_casos_21['taxa_casos'].idxmax()]) "
   ]
  },
  {
   "cell_type": "markdown",
   "id": "56940245-bfe8-4ac5-b1af-42807da8504f",
   "metadata": {},
   "source": [
    "3) Em algum estado teve um índice de casos confirmados que seja pequeno o suficiente para se dizer que teve métodos eficazes"
   ]
  },
  {
   "cell_type": "code",
   "execution_count": 55,
   "id": "38587900-d661-4e1f-b9c9-28aaeedd64c9",
   "metadata": {},
   "outputs": [
    {
     "name": "stdout",
     "output_type": "stream",
     "text": [
      "Sudeste com o menor indice de novos casos em: \n",
      "3.040251596758526\n"
     ]
    }
   ],
   "source": [
    "indice_mer_2020 = 0\n",
    "\n",
    "if(indice_casos_novos_20.idxmin() == 0):\n",
    "    print('Norte com o menor indice de novos casos em: ')\n",
    "    print(indice_casos_novos_20.min())\n",
    "    indice_mer_2020 = 'Norte ' + str(indice_casos_novos_20.min())\n",
    "if(indice_casos_novos_20.idxmin() == 1):\n",
    "    print('Nordeste com o menor indice de novos casos em: ')\n",
    "    print(indice_casos_novos_20.min())\n",
    "    indice_mer_2020 = 'Nordeste ' + str(indice_casos_novos_20.min())\n",
    "if(indice_casos_novos_20.idxmin() == 2):\n",
    "    print('Sudeste com o menor indice de novos casos em: ')\n",
    "    print(indice_casos_novos_20.min())\n",
    "    indice_mer_2020 = 'Sudeste ' + str(indice_casos_novos_20.min())\n",
    "if(indice_casos_novos_20.idxmin() == 3):\n",
    "    print('Sul com o menor indice de novos casos em: ')\n",
    "    print(indice_casos_novos_20.min())\n",
    "    indice_mer_2020 = 'Sul ' + str(indice_casos_novos_20.min())\n",
    "if(indice_casos_novos_20.idxmin() == 4):\n",
    "    print('Centro-Oeste com o menor indice de novos casos em: ')\n",
    "    print(indice_casos_novos_20.min())\n",
    "    indice_mer_2020 = 'Centro-Oeste ' + str(indice_casos_novos_20.min())"
   ]
  },
  {
   "cell_type": "code",
   "execution_count": 56,
   "id": "9de21010-fc2b-49f2-b847-97a33a257cb0",
   "metadata": {},
   "outputs": [
    {
     "name": "stdout",
     "output_type": "stream",
     "text": [
      "Norte com o menor indice de novos casos em: \n",
      "5.092073892757583\n"
     ]
    }
   ],
   "source": [
    "indice_mer_2021 = 0\n",
    "\n",
    "if(indice_casos_novos_21.idxmin() == 0):\n",
    "    print('Norte com o menor indice de novos casos em: ')\n",
    "    print(indice_casos_novos_21.min())\n",
    "    indice_mer_2021 = 'Norte ' + str(indice_casos_novos_20.min())\n",
    "if(indice_casos_novos_21.idxmin() == 1):\n",
    "    print('Nordeste com o menor indice de novos casos em: ')\n",
    "    print(indice_casos_novos_21.min())\n",
    "    indice_mer_2021 = 'Nordeste ' + str(indice_casos_novos_20.min())\n",
    "if(indice_casos_novos_21.idxmin() == 2):\n",
    "    print('Sudeste com o menor indice de novos casos em: ')\n",
    "    print(indice_casos_novos_21.min())\n",
    "    indice_mer_2021 = 'Sudeste ' + str(indice_casos_novos_20.min())\n",
    "if(indice_casos_novos_21.idxmin() == 3):\n",
    "    print('Sul com o menor indice de novos casos em: ')\n",
    "    print(indice_casos_novos_21.min())\n",
    "    indice_mer_2021 = 'Sul ' + str(indice_casos_novos_20.min())\n",
    "if(indice_casos_novos_21.idxmin() == 4):\n",
    "    print('Centro-Oeste com o menor indice de novos casos em: ')\n",
    "    print(indice_casos_novos_21.min())\n",
    "    indice_mer_2021 = 'Centro-Oeste ' + str(indice_casos_novos_20.min())"
   ]
  },
  {
   "cell_type": "code",
   "execution_count": 57,
   "id": "2e2f4a3c-8f4c-402c-8d22-c3b4518183bc",
   "metadata": {},
   "outputs": [],
   "source": [
    "tabela_estados_casos_20['estado'][tabela_estados_casos_20['taxa_casos'].idxmin()]\n",
    "tabela_estados_casos_20['taxa_casos'][tabela_estados_casos_20['taxa_casos'].idxmin()]\n",
    "indice_mee_2020 = tabela_estados_casos_20['estado'][tabela_estados_casos_20['taxa_casos'].idxmin()] + ' ' + str(tabela_estados_casos_20['taxa_casos'][tabela_estados_casos_20['taxa_casos'].idxmin()])\n",
    "tabela_estados_casos_21['estado'][tabela_estados_casos_21['taxa_casos'].idxmin()]\n",
    "tabela_estados_casos_21['taxa_casos'][tabela_estados_casos_21['taxa_casos'].idxmin()]\n",
    "indice_mee_2021 = tabela_estados_casos_21['estado'][tabela_estados_casos_21['taxa_casos'].idxmin()] + ' ' + str(tabela_estados_casos_21['taxa_casos'][tabela_estados_casos_21['taxa_casos'].idxmin()]) "
   ]
  },
  {
   "cell_type": "markdown",
   "id": "b2f413ef-3a45-4fb0-88fb-6e14f919da47",
   "metadata": {},
   "source": [
    "Maior taxa para Estado e Região"
   ]
  },
  {
   "cell_type": "code",
   "execution_count": 58,
   "id": "97d75aaf-48d7-42c5-84eb-db96fef3412e",
   "metadata": {},
   "outputs": [
    {
     "name": "stdout",
     "output_type": "stream",
     "text": [
      "2020:\n",
      "Centro-Oeste 5.381395389090489\n",
      "RR 11.01358456552997\n",
      "2021:\n",
      "Sul 10.042400819828023\n",
      "PR 12.531418475686065\n"
     ]
    }
   ],
   "source": [
    "print('2020:')\n",
    "print(indice_mar_2020)\n",
    "print(indice_mae_2020)\n",
    "print('2021:')\n",
    "print(indice_mar_2021)\n",
    "print(indice_mae_2021)"
   ]
  },
  {
   "cell_type": "markdown",
   "id": "2752eb2c-f1dc-4222-b98f-993721ff391d",
   "metadata": {},
   "source": [
    "Menor taxa para Estado e Região"
   ]
  },
  {
   "cell_type": "code",
   "execution_count": 59,
   "id": "72d891f5-13b1-46cd-bedb-457932473517",
   "metadata": {},
   "outputs": [
    {
     "name": "stdout",
     "output_type": "stream",
     "text": [
      "2020:\n",
      "Sudeste 3.040251596758526\n",
      "PE 2.329604959511131\n",
      "2021:\n",
      "Norte 3.040251596758526\n",
      "MA 2.1496552526359394\n"
     ]
    }
   ],
   "source": [
    "print('2020:')\n",
    "print(indice_mer_2020)\n",
    "print(indice_mee_2020)\n",
    "print('2021:')\n",
    "print(indice_mer_2021)\n",
    "print(indice_mee_2021)"
   ]
  },
  {
   "cell_type": "markdown",
   "id": "5ee3a4a5-ada1-485b-b3cf-03abbbb4a8ef",
   "metadata": {},
   "source": [
    "Observado as taxas de **Casos Novos** em estados, não temos uma grande variação na taxa que seja significativo para um estado ter um controle significativo de disseminação do vírus, porém, quando olhamos as taxas em regiões, temos uma variação de 10% nas taxas, podendo observar que alguma região pode ter número que sejam significativos para tentar estudar os meios utilizados para o controle da disseminação do vírus, porém, com outras regiões com taxas maiores, acaba que estabilizando as taxas comparativas de cada estado."
   ]
  },
  {
   "cell_type": "markdown",
   "id": "6761faf9-594d-43c7-a209-082ea9974531",
   "metadata": {},
   "source": [
    "4) Como é o gráfico ao longo do tempo de casos confirmados e de óbitos? Existe algum comportamento semelhante entre os dois?"
   ]
  },
  {
   "cell_type": "code",
   "execution_count": 60,
   "id": "ce9dbb1f-70d1-4ed7-b263-0cb5261a4e3b",
   "metadata": {},
   "outputs": [
    {
     "data": {
      "image/png": "[encoded data removed]",
      "text/plain": [
       "<Figure size 432x288 with 1 Axes>"
      ]
     },
     "metadata": {
      "needs_background": "light"
     },
     "output_type": "display_data"
    }
   ],
   "source": [
    "interval = np.arange(3,13,1)\n",
    "\n",
    "fig, ax = plt.subplots()\n",
    "ax.plot(agrupamentoCasosNovos2020.index, agrupamentoCasosNovos2020.values, label='Casos Novos')\n",
    "ax.plot(agrupamentoObitos2020.index, agrupamentoObitos2020.values, label='Óbitos Novos')\n",
    "ax.plot(agrupamentoObitosAcumulados2020['mes'], agrupamentoObitosAcumulados2020['obitosAcumulados'], label='Óbitos Acumulados')\n",
    "\n",
    "ax.set_xticks(interval)\n",
    "ax.set_xticks(interval, minor=True)\n",
    "ax.set(xlabel='Mês', ylabel='Pessoas', title='Covid em 2020')\n",
    "ax.legend()\n",
    "ax.grid()\n",
    "\n",
    "plt.show()"
   ]
  },
  {
   "cell_type": "code",
   "execution_count": 61,
   "id": "4dd9dbe5-b6ed-4e9d-abac-a9dea431890a",
   "metadata": {},
   "outputs": [
    {
     "data": {
      "image/png": "[encoded data removed]",
      "text/plain": [
       "<Figure size 432x288 with 1 Axes>"
      ]
     },
     "metadata": {
      "needs_background": "light"
     },
     "output_type": "display_data"
    }
   ],
   "source": [
    "interval = np.arange(1,9,1)\n",
    "\n",
    "fig, ax = plt.subplots()\n",
    "ax.plot(agrupamentoCasosNovos2021.index, agrupamentoCasosNovos2021.values, label='Casos Novos')\n",
    "ax.plot(agrupamentoObitos2021.index, agrupamentoObitos2021.values, label='Óbitos Novos')\n",
    "ax.plot(agrupamentoObitosAcumulados2021['mes'], agrupamentoObitosAcumulados2021['obitosAcumulados'], label='Óbitos Acumulados')\n",
    "\n",
    "ax.set_xticks(interval)\n",
    "ax.set_xticks(interval, minor=True)\n",
    "ax.set(xlabel='Mês', ylabel='Pessoas', title='Covid em 2021')\n",
    "ax.legend()\n",
    "ax.grid()\n",
    "\n",
    "plt.show()"
   ]
  },
  {
   "cell_type": "code",
   "execution_count": 62,
   "id": "a76806bd-bc66-473c-a63f-5263123d105e",
   "metadata": {},
   "outputs": [
    {
     "data": {
      "image/png": "[encoded data removed]",
      "text/plain": [
       "<Figure size 432x288 with 1 Axes>"
      ]
     },
     "metadata": {
      "needs_background": "light"
     },
     "output_type": "display_data"
    }
   ],
   "source": [
    "interval = np.arange(1,9,1)\n",
    "\n",
    "fig, ax = plt.subplots()\n",
    "ax.plot(agrupamentoCasosNovos2021.index, agrupamentoCasosNovos2021.values, label='Casos Novos')\n",
    "ax.plot(agrupamentoObitos2021.index, agrupamentoObitos2021.values, label='Óbitos Novos')\n",
    "ax.plot(agrupamentoObitosAcumulados2021['mes'], agrupamentoObitosAcumulados2021['obitosAcumulados'], label='Óbitos Acumulados')\n",
    "ax.plot(agrupamento_vacinado.index, agrupamento_vacinado.values, label='Vacinadas')\n",
    "\n",
    "ax.set_xticks(interval)\n",
    "ax.set_xticks(interval, minor=True)\n",
    "ax.set(xlabel='Mês', ylabel='Pessoas', title='Covid em 2021')\n",
    "ax.legend()\n",
    "ax.grid()\n",
    "\n",
    "plt.show()"
   ]
  }
 ],
 "metadata": {
  "kernelspec": {
   "display_name": "Python 3",
   "language": "python",
   "name": "python3"
  },
  "language_info": {
   "codemirror_mode": {
    "name": "ipython",
    "version": 3
   },
   "file_extension": ".py",
   "mimetype": "text/x-python",
   "name": "python",
   "nbconvert_exporter": "python",
   "pygments_lexer": "ipython3",
   "version": "3.8.8"
  }
 },
 "nbformat": 4,
 "nbformat_minor": 5
}
